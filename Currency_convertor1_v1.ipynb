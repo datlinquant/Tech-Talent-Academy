{
  "nbformat": 4,
  "nbformat_minor": 0,
  "metadata": {
    "colab": {
      "name": "Currency_convertor1_v1.ipynb",
      "provenance": [],
      "collapsed_sections": []
    },
    "kernelspec": {
      "name": "python3",
      "display_name": "Python 3"
    },
    "language_info": {
      "name": "python"
    }
  },
  "cells": [
    {
      "cell_type": "code",
      "metadata": {
        "id": "b2ESW1Dr26j1"
      },
      "source": [
        ""
      ],
      "execution_count": null,
      "outputs": []
    },
    {
      "cell_type": "code",
      "metadata": {
        "colab": {
          "base_uri": "https://localhost:8080/"
        },
        "id": "YoMNb7ka3JMy",
        "outputId": "4345751c-b97c-40cb-f782-e797083d8a61"
      },
      "source": [
        "# Murphy Campbell\n",
        "# email: murphybcampbell@googlemail.com\n",
        "# TTA Data Academy Home Learning: Seession 2, \n",
        "# Sterling Pound to US Dollar currency convertor\n",
        "\n",
        "# Reference: https://www.python.org\n",
        "# Reference: https://www.w3schools.com/python/default.asp \n",
        "\n",
        "\n",
        "# Map of variables #\n",
        "# Sterling One Pound to US Dollar Conversion rate: Pound_rate_US\n",
        "# Pound to US Dollar Conversion rate = 1.36 (01/11/2021)\n",
        "# keyed in store for pounds to be converted to dollars: input_p\n",
        "# Converted pounds to dollar: conv_pounds\n",
        "\n",
        "\n",
        "Pound_rate_US = 1.36\n",
        "input_p = 0.00\n",
        "conv_pounds = 0.00\n",
        "\n",
        "\n",
        "def conv_pd(input_p,conv_pounds):\n",
        "    print(\"Sterling Pounds to US Dollar convertor\\n\")\n",
        "    print(\"Please enter the amount of pounds you wish to convert\\n\")\n",
        "    input_p = float(input())\n",
        "    conv_pounds = input_p * Pound_rate_US\n",
        "    \n",
        "    return conv_pounds\n",
        "\n",
        "\n",
        "conv_pounds = conv_pd(input_p,conv_pounds)\n",
        "print(\"The conversion value is\",conv_pounds, \"Dollars\")\n",
        "\n",
        "\n",
        "    \n",
        "    \n",
        "\n",
        "\n",
        "\n"
      ],
      "execution_count": 12,
      "outputs": [
        {
          "output_type": "stream",
          "name": "stdout",
          "text": [
            "Sterling Pounds to US Dollar convertor\n",
            "\n",
            "Please enter the amount of pounds you wish to convert\n",
            "\n",
            "2\n",
            "The conversion value is 2.72 Dollars\n"
          ]
        }
      ]
    },
    {
      "cell_type": "code",
      "metadata": {
        "id": "6JnSyN3U9eHx"
      },
      "source": [
        "num1,num2 = 0.00,0.00\n",
        "\n",
        "def function1():\n",
        "    return function2\n",
        "\n",
        "def function2(num1,num2):\n",
        "    num1,num2 = 0.00,0.00\n",
        "    result = num1 + num2\n",
        "    return result\n",
        "    #print('Function 2')\n",
        "\n",
        "function2(num1,num2)\n",
        "\n",
        "num1,num2 = 2.00,7.00"
      ],
      "execution_count": 9,
      "outputs": []
    }
  ]
}
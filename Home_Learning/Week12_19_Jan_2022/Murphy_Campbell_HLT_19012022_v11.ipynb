{
  "nbformat": 4,
  "nbformat_minor": 0,
  "metadata": {
    "colab": {
      "name": "Murphy_Campbell_HLT_19012022_v11.ipynb",
      "provenance": [],
      "collapsed_sections": []
    },
    "kernelspec": {
      "name": "ir",
      "display_name": "R"
    },
    "language_info": {
      "name": "R"
    }
  },
  "cells": [
    {
      "cell_type": "code",
      "execution_count": null,
      "metadata": {
        "id": "DWrxE3X5gZ_K"
      },
      "outputs": [],
      "source": [
        "\n",
        "# Murphy Campbell\n",
        "# email: murphybcampbell@googlemail.com\n",
        "\n",
        "# TTA Data Academy Home Learning: Session: 19 Jan 2022\n",
        "\n",
        "# Reference: \n",
        "# https://colab.research.google.com/github/nipunbatra/blog/blob/master/_notebooks/2017-08-02-fifty-ggplot-python-1.ipynb\n",
        "# https://cran.microsoft.com/snapshot/2020-08-04/web/packages/plot.matrix/vignettes/plot.matrix.html#first-examples\n",
        "# https://rpy2.github.io/doc/v3.4.x/html/graphics.html#package-ggplot2\n",
        "# https://en.wikipedia.org/wiki/Fibonacci#Fibonacci_sequence\n"
      ]
    },
    {
      "cell_type": "code",
      "source": [
        ""
      ],
      "metadata": {
        "id": "q3ls555L0ww0"
      },
      "execution_count": null,
      "outputs": []
    },
    {
      "cell_type": "markdown",
      "source": [
        "### Set Runtime to R from Runtime menu"
      ],
      "metadata": {
        "id": "4jR7TdzG2tOp"
      }
    },
    {
      "cell_type": "markdown",
      "source": [
        "1.Write an R program to create three vectors a, b, c with 5\n",
        "integers. Combine the three vectors to become a 3×5 matrix\n",
        "where each column represents a vector. Print the content of\n",
        "the matrix. Plot a graph and label correctly.\n",
        "\n",
        "Load R module for notebook"
      ],
      "metadata": {
        "id": "5FKE6hZoyQrm"
      }
    },
    {
      "cell_type": "code",
      "source": [
        ""
      ],
      "metadata": {
        "id": "MxOT7ZM40fwC"
      },
      "execution_count": null,
      "outputs": []
    },
    {
      "cell_type": "code",
      "source": [
        ""
      ],
      "metadata": {
        "id": "I3w_iVnT2XCW"
      },
      "execution_count": null,
      "outputs": []
    },
    {
      "cell_type": "code",
      "source": [
        "# To plot require graphics package for plotting\n",
        "\n",
        "require(graphics)"
      ],
      "metadata": {
        "id": "QT7matvwgn67"
      },
      "execution_count": null,
      "outputs": []
    },
    {
      "cell_type": "code",
      "source": [
        ""
      ],
      "metadata": {
        "id": "wRdL7GxmgoOi"
      },
      "execution_count": null,
      "outputs": []
    },
    {
      "cell_type": "code",
      "source": [
        "\n",
        "vec1 <- c(1:5)\n",
        "vec2 <- c(11:15)\n",
        "vec3 <- c(21:25)\n",
        "\n",
        "# By row\n",
        "# matx1 <- matrix(c(vec1,vec2,vec3), nrow =5, ncol =3, byrow = TRUE )\n",
        "# By Column\n",
        "#matx1 <- matrix(c(vec1,vec2,vec3), nrow =5, ncol =3, bycol = TRUE )\n",
        " matx1 <- matrix(c(vec1,vec2,vec3), nrow =3, ncol =5 )"
      ],
      "metadata": {
        "id": "bMil6LhFhM7a"
      },
      "execution_count": 294,
      "outputs": []
    },
    {
      "cell_type": "code",
      "source": [
        "dim(matx1)"
      ],
      "metadata": {
        "colab": {
          "base_uri": "https://localhost:8080/",
          "height": 34
        },
        "id": "FOSGWm2p39sa",
        "outputId": "acfb431a-a9c5-4c7b-eb69-c3a683a1a847"
      },
      "execution_count": 295,
      "outputs": [
        {
          "output_type": "display_data",
          "data": {
            "text/plain": [
              "[1] 3 5"
            ],
            "text/latex": "\\begin{enumerate*}\n\\item 3\n\\item 5\n\\end{enumerate*}\n",
            "text/markdown": "1. 3\n2. 5\n\n\n",
            "text/html": [
              "<style>\n",
              ".list-inline {list-style: none; margin:0; padding: 0}\n",
              ".list-inline>li {display: inline-block}\n",
              ".list-inline>li:not(:last-child)::after {content: \"\\00b7\"; padding: 0 .5ex}\n",
              "</style>\n",
              "<ol class=list-inline><li>3</li><li>5</li></ol>\n"
            ]
          },
          "metadata": {}
        }
      ]
    },
    {
      "cell_type": "code",
      "source": [
        "matx1"
      ],
      "metadata": {
        "colab": {
          "base_uri": "https://localhost:8080/",
          "height": 145
        },
        "id": "671pluGU3-Iu",
        "outputId": "cb90f143-0ee9-4ebe-e996-7883625f7acc"
      },
      "execution_count": 296,
      "outputs": [
        {
          "output_type": "display_data",
          "data": {
            "text/plain": [
              "     [,1] [,2] [,3] [,4] [,5]\n",
              "[1,] 1     4   12   15   23  \n",
              "[2,] 2     5   13   21   24  \n",
              "[3,] 3    11   14   22   25  "
            ],
            "text/latex": "A matrix: 3 × 5 of type int\n\\begin{tabular}{lllll}\n\t 1 &  4 & 12 & 15 & 23\\\\\n\t 2 &  5 & 13 & 21 & 24\\\\\n\t 3 & 11 & 14 & 22 & 25\\\\\n\\end{tabular}\n",
            "text/markdown": "\nA matrix: 3 × 5 of type int\n\n| 1 |  4 | 12 | 15 | 23 |\n| 2 |  5 | 13 | 21 | 24 |\n| 3 | 11 | 14 | 22 | 25 |\n\n",
            "text/html": [
              "<table class=\"dataframe\">\n",
              "<caption>A matrix: 3 × 5 of type int</caption>\n",
              "<tbody>\n",
              "\t<tr><td>1</td><td> 4</td><td>12</td><td>15</td><td>23</td></tr>\n",
              "\t<tr><td>2</td><td> 5</td><td>13</td><td>21</td><td>24</td></tr>\n",
              "\t<tr><td>3</td><td>11</td><td>14</td><td>22</td><td>25</td></tr>\n",
              "</tbody>\n",
              "</table>\n"
            ]
          },
          "metadata": {}
        }
      ]
    },
    {
      "cell_type": "code",
      "source": [
        ""
      ],
      "metadata": {
        "id": "k39L5TW_goXk"
      },
      "execution_count": null,
      "outputs": []
    },
    {
      "cell_type": "code",
      "source": [
        "\n",
        "# Change column to names 'vec1','vec2','vec3'\n",
        "# colnames(matx1) <- c('vec1','vec2','vec3')"
      ],
      "metadata": {
        "id": "XCRV20yxgogZ"
      },
      "execution_count": null,
      "outputs": []
    },
    {
      "cell_type": "code",
      "source": [
        "matx1"
      ],
      "metadata": {
        "id": "MuQpXui3goou",
        "colab": {
          "base_uri": "https://localhost:8080/",
          "height": 145
        },
        "outputId": "5f2bb231-e635-4b0b-bf80-0819567c568c"
      },
      "execution_count": 297,
      "outputs": [
        {
          "output_type": "display_data",
          "data": {
            "text/plain": [
              "     [,1] [,2] [,3] [,4] [,5]\n",
              "[1,] 1     4   12   15   23  \n",
              "[2,] 2     5   13   21   24  \n",
              "[3,] 3    11   14   22   25  "
            ],
            "text/latex": "A matrix: 3 × 5 of type int\n\\begin{tabular}{lllll}\n\t 1 &  4 & 12 & 15 & 23\\\\\n\t 2 &  5 & 13 & 21 & 24\\\\\n\t 3 & 11 & 14 & 22 & 25\\\\\n\\end{tabular}\n",
            "text/markdown": "\nA matrix: 3 × 5 of type int\n\n| 1 |  4 | 12 | 15 | 23 |\n| 2 |  5 | 13 | 21 | 24 |\n| 3 | 11 | 14 | 22 | 25 |\n\n",
            "text/html": [
              "<table class=\"dataframe\">\n",
              "<caption>A matrix: 3 × 5 of type int</caption>\n",
              "<tbody>\n",
              "\t<tr><td>1</td><td> 4</td><td>12</td><td>15</td><td>23</td></tr>\n",
              "\t<tr><td>2</td><td> 5</td><td>13</td><td>21</td><td>24</td></tr>\n",
              "\t<tr><td>3</td><td>11</td><td>14</td><td>22</td><td>25</td></tr>\n",
              "</tbody>\n",
              "</table>\n"
            ]
          },
          "metadata": {}
        }
      ]
    },
    {
      "cell_type": "code",
      "source": [
        ""
      ],
      "metadata": {
        "id": "jkc2TS9Rhr0x"
      },
      "execution_count": null,
      "outputs": []
    },
    {
      "cell_type": "code",
      "source": [
        "\n",
        "install.packages('plot.matrix')"
      ],
      "metadata": {
        "id": "P7c1RivHhsGp",
        "colab": {
          "base_uri": "https://localhost:8080/"
        },
        "outputId": "64d0342d-b979-468d-e6a1-0a6a2d824b9c"
      },
      "execution_count": 298,
      "outputs": [
        {
          "output_type": "stream",
          "name": "stderr",
          "text": [
            "Installing package into ‘/usr/local/lib/R/site-library’\n",
            "(as ‘lib’ is unspecified)\n",
            "\n"
          ]
        }
      ]
    },
    {
      "cell_type": "code",
      "source": [
        "\n",
        "library(plot.matrix)"
      ],
      "metadata": {
        "id": "aCIxPKpAiA9B"
      },
      "execution_count": 299,
      "outputs": []
    },
    {
      "cell_type": "code",
      "source": [
        ""
      ],
      "metadata": {
        "id": "VrKhE8XlgnDO"
      },
      "execution_count": null,
      "outputs": []
    },
    {
      "cell_type": "markdown",
      "source": [
        "Plot of the matrix matx1"
      ],
      "metadata": {
        "id": "oFI4hqlV5Yyi"
      }
    },
    {
      "cell_type": "code",
      "source": [
        "\n",
        "par(mar=c(5.1, 4.1, 4.1, 4.1)) # adapt margins\n",
        "plot(matx1, cex=0.5, xlab = 'Vectors as Columns', ylab = 'Vector rows', main = 'Matx1 matrix of three vectors')"
      ],
      "metadata": {
        "id": "c0x2E-bSiLD9",
        "colab": {
          "base_uri": "https://localhost:8080/",
          "height": 437
        },
        "outputId": "037b7c82-d174-4b4c-c417-d11537ac5990"
      },
      "execution_count": 300,
      "outputs": [
        {
          "output_type": "display_data",
          "data": {
            "image/png": "[encoded data removed]",
            "text/plain": [
              "Plot with title “Matx1 matrix of three vectors”"
            ]
          },
          "metadata": {
            "image/png": {
              "width": 420,
              "height": 420
            }
          }
        }
      ]
    },
    {
      "cell_type": "code",
      "source": [
        ""
      ],
      "metadata": {
        "id": "U4vrUnwbiLPs"
      },
      "execution_count": null,
      "outputs": []
    },
    {
      "cell_type": "markdown",
      "source": [
        "2. Write a R program to create a Data frames which contain\n",
        "details of 5 employees and display the details. (Name, Age,\n",
        "Role and Length of service).\n",
        "\n",
        "Create list emp_list to hold the data"
      ],
      "metadata": {
        "id": "TRjJ67XD6FWk"
      }
    },
    {
      "cell_type": "code",
      "source": [
        "emp_list <- list(Name=c('Joe Stevens','George O Donnell','Janet Towers','David Smith','Mary Cross'), Age=c(37L,57L,59L,47L,27L),Role=c('Training Manager','CIO','CEO','Accounts Manager',' Purchasing Manager'), 'Length of service'=c(3L,14L,26L,13L,6L))\n"
      ],
      "metadata": {
        "id": "ANRy8NGJiLZO"
      },
      "execution_count": null,
      "outputs": []
    },
    {
      "cell_type": "code",
      "source": [
        "is.list(emp_list)"
      ],
      "metadata": {
        "colab": {
          "base_uri": "https://localhost:8080/",
          "height": 34
        },
        "id": "6EHwF3x26CrG",
        "outputId": "eb571f9e-e1d5-4828-f1ef-deca025e79fa"
      },
      "execution_count": null,
      "outputs": [
        {
          "output_type": "display_data",
          "data": {
            "text/plain": [
              "[1] TRUE"
            ],
            "text/latex": "TRUE",
            "text/markdown": "TRUE",
            "text/html": [
              "TRUE"
            ]
          },
          "metadata": {}
        }
      ]
    },
    {
      "cell_type": "markdown",
      "source": [
        "Create dataframe from the list emp_list"
      ],
      "metadata": {
        "id": "R1LEuhZe7H2t"
      }
    },
    {
      "cell_type": "code",
      "source": [
        "emp_df <- data.frame(emp_list)"
      ],
      "metadata": {
        "id": "yGvZQlLv7Dku"
      },
      "execution_count": null,
      "outputs": []
    },
    {
      "cell_type": "code",
      "source": [
        "# print out dataframe emp_df \n",
        "emp_df"
      ],
      "metadata": {
        "colab": {
          "base_uri": "https://localhost:8080/",
          "height": 253
        },
        "id": "5-EO6q9b7D73",
        "outputId": "2fd2203a-789f-443e-d8bc-25f2e9b631d3"
      },
      "execution_count": null,
      "outputs": [
        {
          "output_type": "display_data",
          "data": {
            "text/plain": [
              "  Name             Age Role                Length.of.service\n",
              "1 Joe Stevens      37  Training Manager     3               \n",
              "2 George O Donnell 57  CIO                 14               \n",
              "3 Janet Towers     59  CEO                 26               \n",
              "4 David Smith      47  Accounts Manager    13               \n",
              "5 Mary Cross       27   Purchasing Manager  6               "
            ],
            "text/latex": "A data.frame: 5 × 4\n\\begin{tabular}{llll}\n Name & Age & Role & Length.of.service\\\\\n <chr> & <int> & <chr> & <int>\\\\\n\\hline\n\t Joe Stevens      & 37 & Training Manager    &  3\\\\\n\t George O Donnell & 57 & CIO                 & 14\\\\\n\t Janet Towers     & 59 & CEO                 & 26\\\\\n\t David Smith      & 47 & Accounts Manager    & 13\\\\\n\t Mary Cross       & 27 &  Purchasing Manager &  6\\\\\n\\end{tabular}\n",
            "text/markdown": "\nA data.frame: 5 × 4\n\n| Name &lt;chr&gt; | Age &lt;int&gt; | Role &lt;chr&gt; | Length.of.service &lt;int&gt; |\n|---|---|---|---|\n| Joe Stevens      | 37 | Training Manager    |  3 |\n| George O Donnell | 57 | CIO                 | 14 |\n| Janet Towers     | 59 | CEO                 | 26 |\n| David Smith      | 47 | Accounts Manager    | 13 |\n| Mary Cross       | 27 |  Purchasing Manager |  6 |\n\n",
            "text/html": [
              "<table class=\"dataframe\">\n",
              "<caption>A data.frame: 5 × 4</caption>\n",
              "<thead>\n",
              "\t<tr><th scope=col>Name</th><th scope=col>Age</th><th scope=col>Role</th><th scope=col>Length.of.service</th></tr>\n",
              "\t<tr><th scope=col>&lt;chr&gt;</th><th scope=col>&lt;int&gt;</th><th scope=col>&lt;chr&gt;</th><th scope=col>&lt;int&gt;</th></tr>\n",
              "</thead>\n",
              "<tbody>\n",
              "\t<tr><td>Joe Stevens     </td><td>37</td><td>Training Manager   </td><td> 3</td></tr>\n",
              "\t<tr><td>George O Donnell</td><td>57</td><td>CIO                </td><td>14</td></tr>\n",
              "\t<tr><td>Janet Towers    </td><td>59</td><td>CEO                </td><td>26</td></tr>\n",
              "\t<tr><td>David Smith     </td><td>47</td><td>Accounts Manager   </td><td>13</td></tr>\n",
              "\t<tr><td>Mary Cross      </td><td>27</td><td> Purchasing Manager</td><td> 6</td></tr>\n",
              "</tbody>\n",
              "</table>\n"
            ]
          },
          "metadata": {}
        }
      ]
    },
    {
      "cell_type": "code",
      "source": [
        ""
      ],
      "metadata": {
        "id": "sxBsq2Tv8GEv"
      },
      "execution_count": null,
      "outputs": []
    },
    {
      "cell_type": "markdown",
      "source": [
        "3. Import the GGPLOT 2 library and plot a graph using the qplot\n",
        "function. X axis is the sequence of 1:20 and the y axis is the x ^2\n",
        "Label the graph appropriately. install.packages(\"ggplot2\",dependencies = TRUE)\n"
      ],
      "metadata": {
        "id": "xkXahLZx8f4y"
      }
    },
    {
      "cell_type": "code",
      "source": [
        " # install.packages(\"ggplot2\",dependencies = TRUE)\n"
      ],
      "metadata": {
        "colab": {
          "base_uri": "https://localhost:8080/"
        },
        "id": "RVfzk8OH9HaS",
        "outputId": "e78585e1-75a4-4bb4-ec3e-734f1d699bed"
      },
      "execution_count": null,
      "outputs": [
        {
          "output_type": "stream",
          "name": "stderr",
          "text": [
            "Warning message in install.packages(\"ggplot2\", dependencies = TRUE):\n",
            "“installation of package ‘s2’ had non-zero exit status”\n",
            "Warning message in install.packages(\"ggplot2\", dependencies = TRUE):\n",
            "“installation of package ‘ragg’ had non-zero exit status”\n"
          ]
        }
      ]
    },
    {
      "cell_type": "code",
      "source": [
        "install.packages(\"ggplot2\")"
      ],
      "metadata": {
        "colab": {
          "base_uri": "https://localhost:8080/"
        },
        "id": "b9gmRTT9JrlB",
        "outputId": "768a892a-17fa-4acb-aaad-64b48ad4a15f"
      },
      "execution_count": null,
      "outputs": [
        {
          "output_type": "stream",
          "name": "stderr",
          "text": [
            "Installing package into ‘/usr/local/lib/R/site-library’\n",
            "(as ‘lib’ is unspecified)\n",
            "\n"
          ]
        }
      ]
    },
    {
      "cell_type": "code",
      "source": [
        ""
      ],
      "metadata": {
        "id": "pbPCGzxvOD8L"
      },
      "execution_count": null,
      "outputs": []
    },
    {
      "cell_type": "markdown",
      "source": [
        "Receiving errors when install.packages(\"ggplot2\",dependencies = TRUE)\n",
        "\n",
        "Will go ahead a just install.packages(\"ggplot2\") and load the library ggplot2"
      ],
      "metadata": {
        "id": "Rvw9NB4i-7pX"
      }
    },
    {
      "cell_type": "code",
      "source": [
        "install.packages(\"ggplot2\")"
      ],
      "metadata": {
        "colab": {
          "base_uri": "https://localhost:8080/"
        },
        "id": "u1xXYFqnKQPE",
        "outputId": "30c7ecb5-d5de-4dd7-bbd3-938da59769f1"
      },
      "execution_count": null,
      "outputs": [
        {
          "output_type": "stream",
          "name": "stderr",
          "text": [
            "Installing package into ‘/usr/local/lib/R/site-library’\n",
            "(as ‘lib’ is unspecified)\n",
            "\n"
          ]
        }
      ]
    },
    {
      "cell_type": "code",
      "source": [
        "library(ggplot2)\n"
      ],
      "metadata": {
        "id": "kdcVwlkt8Gat"
      },
      "execution_count": null,
      "outputs": []
    },
    {
      "cell_type": "code",
      "source": [
        ""
      ],
      "metadata": {
        "id": "CLAItr4JEKWT"
      },
      "execution_count": null,
      "outputs": []
    },
    {
      "cell_type": "code",
      "source": [
        "# Setup vectors with data\n",
        "\n",
        "X <- 1:20\n",
        "y <- X^2"
      ],
      "metadata": {
        "id": "Ysgr01HXCbsY"
      },
      "execution_count": null,
      "outputs": []
    },
    {
      "cell_type": "code",
      "source": [
        "y"
      ],
      "metadata": {
        "colab": {
          "base_uri": "https://localhost:8080/",
          "height": 34
        },
        "id": "_NIQHfDBA7q4",
        "outputId": "44ae8a56-6142-4744-dff2-a2545a87df83"
      },
      "execution_count": null,
      "outputs": [
        {
          "output_type": "display_data",
          "data": {
            "text/plain": [
              " [1]   1   4   9  16  25  36  49  64  81 100 121 144 169 196 225 256 289 324 361\n",
              "[20] 400"
            ],
            "text/latex": "\\begin{enumerate*}\n\\item 1\n\\item 4\n\\item 9\n\\item 16\n\\item 25\n\\item 36\n\\item 49\n\\item 64\n\\item 81\n\\item 100\n\\item 121\n\\item 144\n\\item 169\n\\item 196\n\\item 225\n\\item 256\n\\item 289\n\\item 324\n\\item 361\n\\item 400\n\\end{enumerate*}\n",
            "text/markdown": "1. 1\n2. 4\n3. 9\n4. 16\n5. 25\n6. 36\n7. 49\n8. 64\n9. 81\n10. 100\n11. 121\n12. 144\n13. 169\n14. 196\n15. 225\n16. 256\n17. 289\n18. 324\n19. 361\n20. 400\n\n\n",
            "text/html": [
              "<style>\n",
              ".list-inline {list-style: none; margin:0; padding: 0}\n",
              ".list-inline>li {display: inline-block}\n",
              ".list-inline>li:not(:last-child)::after {content: \"\\00b7\"; padding: 0 .5ex}\n",
              "</style>\n",
              "<ol class=list-inline><li>1</li><li>4</li><li>9</li><li>16</li><li>25</li><li>36</li><li>49</li><li>64</li><li>81</li><li>100</li><li>121</li><li>144</li><li>169</li><li>196</li><li>225</li><li>256</li><li>289</li><li>324</li><li>361</li><li>400</li></ol>\n"
            ]
          },
          "metadata": {}
        }
      ]
    },
    {
      "cell_type": "code",
      "source": [
        "length(X)"
      ],
      "metadata": {
        "colab": {
          "base_uri": "https://localhost:8080/",
          "height": 34
        },
        "id": "BSAy3YHEYj6a",
        "outputId": "16ec8f1a-da75-472a-9f39-48b389e72040"
      },
      "execution_count": null,
      "outputs": [
        {
          "output_type": "display_data",
          "data": {
            "text/plain": [
              "[1] 20"
            ],
            "text/latex": "20",
            "text/markdown": "20",
            "text/html": [
              "20"
            ]
          },
          "metadata": {}
        }
      ]
    },
    {
      "cell_type": "code",
      "source": [
        "# Setup dataframe"
      ],
      "metadata": {
        "id": "ctGGJC4oQWbC"
      },
      "execution_count": null,
      "outputs": []
    },
    {
      "cell_type": "code",
      "source": [
        "#fun_df <- data.frame(c(X,y))\n",
        "fun_df <- data.frame(X,y)"
      ],
      "metadata": {
        "id": "yMMbkJAtNdiW"
      },
      "execution_count": null,
      "outputs": []
    },
    {
      "cell_type": "code",
      "source": [
        "print(fun_df)"
      ],
      "metadata": {
        "colab": {
          "base_uri": "https://localhost:8080/"
        },
        "id": "eGW8HPzHRM7W",
        "outputId": "19f84c40-03ce-4289-e3c3-06ed781289b7"
      },
      "execution_count": null,
      "outputs": [
        {
          "output_type": "stream",
          "name": "stdout",
          "text": [
            "    X   y\n",
            "1   1   1\n",
            "2   2   4\n",
            "3   3   9\n",
            "4   4  16\n",
            "5   5  25\n",
            "6   6  36\n",
            "7   7  49\n",
            "8   8  64\n",
            "9   9  81\n",
            "10 10 100\n",
            "11 11 121\n",
            "12 12 144\n",
            "13 13 169\n",
            "14 14 196\n",
            "15 15 225\n",
            "16 16 256\n",
            "17 17 289\n",
            "18 18 324\n",
            "19 19 361\n",
            "20 20 400\n"
          ]
        }
      ]
    },
    {
      "cell_type": "code",
      "source": [
        "gg <- ggplot(fun_df, aes(x=X, y=X^2)) + \n",
        "  geom_point(aes(col=X,)) +\n",
        "  geom_smooth(method=\"loess\", se=F) +\n",
        "  labs(subtitle=\"X-values Vs y=X^2\",\n",
        "       y=\"X^2\", \n",
        "       x=\"Values of X from 1 to 20\", \n",
        "       title=\"plot\")\n",
        "       \n"
      ],
      "metadata": {
        "id": "SqzLioZLZ_u8"
      },
      "execution_count": null,
      "outputs": []
    },
    {
      "cell_type": "code",
      "source": [
        "plot(gg)"
      ],
      "metadata": {
        "colab": {
          "base_uri": "https://localhost:8080/",
          "height": 475
        },
        "id": "hUuU3YzoZZ4z",
        "outputId": "f8274385-0344-410f-9865-2c0f27d76ae7"
      },
      "execution_count": null,
      "outputs": [
        {
          "output_type": "stream",
          "name": "stderr",
          "text": [
            "`geom_smooth()` using formula 'y ~ x'\n",
            "\n"
          ]
        },
        {
          "output_type": "display_data",
          "data": {
            "image/png": "[encoded data removed]",
            "text/plain": [
              "plot without title"
            ]
          },
          "metadata": {
            "image/png": {
              "width": 420,
              "height": 420
            }
          }
        }
      ]
    },
    {
      "cell_type": "code",
      "source": [
        ""
      ],
      "metadata": {
        "id": "m-cryRa2bvM0"
      },
      "execution_count": null,
      "outputs": []
    },
    {
      "cell_type": "code",
      "source": [
        ""
      ],
      "metadata": {
        "id": "ix34LMiSbv0h"
      },
      "execution_count": null,
      "outputs": []
    },
    {
      "cell_type": "markdown",
      "source": [
        "4. Create a simple bar plot of five subjects"
      ],
      "metadata": {
        "id": "kymLhOEvcPa-"
      }
    },
    {
      "cell_type": "code",
      "source": [
        "bar_plot <- ggplot(emp_df, aes(x=Name,y=Age)) +\n",
        "  geom_col(aes(col=Age)) +\n",
        "  labs(subtitle=\"Names Vs Age\",\n",
        "       y=\"Age\", \n",
        "       x=\"Employee Name\", \n",
        "       title=\"plot\")"
      ],
      "metadata": {
        "id": "bx-GQdkrOJgQ"
      },
      "execution_count": null,
      "outputs": []
    },
    {
      "cell_type": "code",
      "source": [
        "plot(bar_plot)"
      ],
      "metadata": {
        "colab": {
          "base_uri": "https://localhost:8080/",
          "height": 437
        },
        "id": "1-bqT7QNNd8G",
        "outputId": "fbd513d9-0e04-4637-ecb2-5cf263e2a4d1"
      },
      "execution_count": null,
      "outputs": [
        {
          "output_type": "display_data",
          "data": {
            "image/png": "[encoded data removed]",
            "text/plain": [
              "plot without title"
            ]
          },
          "metadata": {
            "image/png": {
              "width": 420,
              "height": 420
            }
          }
        }
      ]
    },
    {
      "cell_type": "code",
      "source": [
        "bar_plot <- ggplot(emp_df, aes(x=Name,y=Age, fill=Name)) +\n",
        "  geom_col(aes(col=Age)) +\n",
        "  labs(subtitle=\"Names Vs Age\",\n",
        "       y=\"Age\", \n",
        "       x=\"Employee Name\", \n",
        "       title=\"plot\")"
      ],
      "metadata": {
        "id": "D_nTEmW3UCge"
      },
      "execution_count": null,
      "outputs": []
    },
    {
      "cell_type": "code",
      "source": [
        "plot(bar_plot)"
      ],
      "metadata": {
        "colab": {
          "base_uri": "https://localhost:8080/",
          "height": 437
        },
        "id": "BCWkOn35p6ip",
        "outputId": "3538f69c-b563-4160-9af5-08e25341a2f0"
      },
      "execution_count": null,
      "outputs": [
        {
          "output_type": "display_data",
          "data": {
            "image/png": "[encoded data removed]",
            "text/plain": [
              "plot without title"
            ]
          },
          "metadata": {
            "image/png": {
              "width": 420,
              "height": 420
            }
          }
        }
      ]
    },
    {
      "cell_type": "code",
      "source": [
        ""
      ],
      "metadata": {
        "id": "kuup3j2hqw3M"
      },
      "execution_count": null,
      "outputs": []
    },
    {
      "cell_type": "code",
      "source": [
        ""
      ],
      "metadata": {
        "id": "O_B5-bhep7Bw"
      },
      "execution_count": null,
      "outputs": []
    },
    {
      "cell_type": "markdown",
      "source": [
        "5.Write a R program to take input from the user (name and age) and display the values."
      ],
      "metadata": {
        "id": "Du1FdgwIgZky"
      }
    },
    {
      "cell_type": "code",
      "source": [
        "name  <- \"\"\n",
        "age <- 0L\n",
        "\n",
        "get_name <- function(name_input)\n",
        "{\n",
        "name <- readline(\"Please enter you name\\n\")\n",
        "return(name)\n",
        "}\n",
        "\n",
        "\n",
        "\n",
        "get_age <- function(age_input)\n",
        "{\n",
        "age <- readline(\"Please enter you age\\n\")\n",
        "return(age)\n",
        "}\n",
        "\n",
        "name <- get_name()\n",
        "age <- get_age()\n",
        "\n",
        "# Print name and age\n",
        "\n",
        "cat(\"Your name is\",name, \"\\n\")\n",
        "cat(\"and your age is\",age)\n",
        "\n",
        "\n",
        "\n",
        "\n",
        "\n",
        "\n",
        "\n"
      ],
      "metadata": {
        "colab": {
          "base_uri": "https://localhost:8080/"
        },
        "id": "0NEU1UijgHHr",
        "outputId": "e78b5283-4864-4db5-c49d-434de64d3579"
      },
      "execution_count": null,
      "outputs": [
        {
          "output_type": "stream",
          "name": "stdout",
          "text": [
            "Please enter you name\n",
            "Murphy Campbell\n",
            "Please enter you age\n",
            "21\n",
            "Your name is Murphy Campbell \n",
            "and your age is 21"
          ]
        }
      ]
    },
    {
      "cell_type": "code",
      "source": [
        ""
      ],
      "metadata": {
        "id": "GnrXIj0qTUlA"
      },
      "execution_count": null,
      "outputs": []
    },
    {
      "cell_type": "markdown",
      "source": [
        "6. Write a R program to create a sequence of numbers from 20 to 50,\n",
        "and find the mean of numbers from 20 to 50 and sum of numbers.\n"
      ],
      "metadata": {
        "id": "DZD4qxy_ls75"
      }
    },
    {
      "cell_type": "code",
      "source": [
        "seq_nums <- 20:50\n",
        "\n"
      ],
      "metadata": {
        "id": "0aISZmIsle6t"
      },
      "execution_count": null,
      "outputs": []
    },
    {
      "cell_type": "code",
      "source": [
        "seq_nums"
      ],
      "metadata": {
        "colab": {
          "base_uri": "https://localhost:8080/",
          "height": 34
        },
        "id": "P-M0cWlVmU3i",
        "outputId": "134c4aea-9154-415a-e273-710b241b82bb"
      },
      "execution_count": null,
      "outputs": [
        {
          "output_type": "display_data",
          "data": {
            "text/plain": [
              " [1] 20 21 22 23 24 25 26 27 28 29 30 31 32 33 34 35 36 37 38 39 40 41 42 43 44\n",
              "[26] 45 46 47 48 49 50"
            ],
            "text/latex": "\\begin{enumerate*}\n\\item 20\n\\item 21\n\\item 22\n\\item 23\n\\item 24\n\\item 25\n\\item 26\n\\item 27\n\\item 28\n\\item 29\n\\item 30\n\\item 31\n\\item 32\n\\item 33\n\\item 34\n\\item 35\n\\item 36\n\\item 37\n\\item 38\n\\item 39\n\\item 40\n\\item 41\n\\item 42\n\\item 43\n\\item 44\n\\item 45\n\\item 46\n\\item 47\n\\item 48\n\\item 49\n\\item 50\n\\end{enumerate*}\n",
            "text/markdown": "1. 20\n2. 21\n3. 22\n4. 23\n5. 24\n6. 25\n7. 26\n8. 27\n9. 28\n10. 29\n11. 30\n12. 31\n13. 32\n14. 33\n15. 34\n16. 35\n17. 36\n18. 37\n19. 38\n20. 39\n21. 40\n22. 41\n23. 42\n24. 43\n25. 44\n26. 45\n27. 46\n28. 47\n29. 48\n30. 49\n31. 50\n\n\n",
            "text/html": [
              "<style>\n",
              ".list-inline {list-style: none; margin:0; padding: 0}\n",
              ".list-inline>li {display: inline-block}\n",
              ".list-inline>li:not(:last-child)::after {content: \"\\00b7\"; padding: 0 .5ex}\n",
              "</style>\n",
              "<ol class=list-inline><li>20</li><li>21</li><li>22</li><li>23</li><li>24</li><li>25</li><li>26</li><li>27</li><li>28</li><li>29</li><li>30</li><li>31</li><li>32</li><li>33</li><li>34</li><li>35</li><li>36</li><li>37</li><li>38</li><li>39</li><li>40</li><li>41</li><li>42</li><li>43</li><li>44</li><li>45</li><li>46</li><li>47</li><li>48</li><li>49</li><li>50</li></ol>\n"
            ]
          },
          "metadata": {}
        }
      ]
    },
    {
      "cell_type": "code",
      "source": [
        "mean(seq_nums)\n",
        "sum(seq_nums)"
      ],
      "metadata": {
        "colab": {
          "base_uri": "https://localhost:8080/",
          "height": 51
        },
        "id": "uc7OrZePmcRg",
        "outputId": "624e21f8-cd70-429d-a370-62b3d5dfefd1"
      },
      "execution_count": null,
      "outputs": [
        {
          "output_type": "display_data",
          "data": {
            "text/plain": [
              "[1] 35"
            ],
            "text/latex": "35",
            "text/markdown": "35",
            "text/html": [
              "35"
            ]
          },
          "metadata": {}
        },
        {
          "output_type": "display_data",
          "data": {
            "text/plain": [
              "[1] 1085"
            ],
            "text/latex": "1085",
            "text/markdown": "1085",
            "text/html": [
              "1085"
            ]
          },
          "metadata": {}
        }
      ]
    },
    {
      "cell_type": "code",
      "source": [
        ""
      ],
      "metadata": {
        "id": "gOCUzZmcf_jT"
      },
      "execution_count": null,
      "outputs": []
    },
    {
      "cell_type": "markdown",
      "source": [
        "7. Write a R program to create a vector which contains 10 random integer\n",
        "values between -50 and +50\n"
      ],
      "metadata": {
        "id": "mJsrAesnm1TF"
      }
    },
    {
      "cell_type": "code",
      "source": [
        "rand_sample <- sample(-50:50, size=10)"
      ],
      "metadata": {
        "id": "009Xr-4ZmuVR"
      },
      "execution_count": null,
      "outputs": []
    },
    {
      "cell_type": "code",
      "source": [
        "rand_sample"
      ],
      "metadata": {
        "colab": {
          "base_uri": "https://localhost:8080/",
          "height": 34
        },
        "id": "OekQarGNnjr_",
        "outputId": "40683e0f-c0b7-42a4-aa75-383b6d913322"
      },
      "execution_count": null,
      "outputs": [
        {
          "output_type": "display_data",
          "data": {
            "text/plain": [
              " [1]  25  22  38   0   2  16 -14  10 -32 -23"
            ],
            "text/latex": "\\begin{enumerate*}\n\\item 25\n\\item 22\n\\item 38\n\\item 0\n\\item 2\n\\item 16\n\\item -14\n\\item 10\n\\item -32\n\\item -23\n\\end{enumerate*}\n",
            "text/markdown": "1. 25\n2. 22\n3. 38\n4. 0\n5. 2\n6. 16\n7. -14\n8. 10\n9. -32\n10. -23\n\n\n",
            "text/html": [
              "<style>\n",
              ".list-inline {list-style: none; margin:0; padding: 0}\n",
              ".list-inline>li {display: inline-block}\n",
              ".list-inline>li:not(:last-child)::after {content: \"\\00b7\"; padding: 0 .5ex}\n",
              "</style>\n",
              "<ol class=list-inline><li>25</li><li>22</li><li>38</li><li>0</li><li>2</li><li>16</li><li>-14</li><li>10</li><li>-32</li><li>-23</li></ol>\n"
            ]
          },
          "metadata": {}
        }
      ]
    },
    {
      "cell_type": "code",
      "source": [
        "is.vector(rand_sample)"
      ],
      "metadata": {
        "id": "aVi1JjltoLND",
        "colab": {
          "base_uri": "https://localhost:8080/",
          "height": 34
        },
        "outputId": "fe254565-997b-4789-f88e-1b244de1f1d8"
      },
      "execution_count": 301,
      "outputs": [
        {
          "output_type": "display_data",
          "data": {
            "text/plain": [
              "[1] TRUE"
            ],
            "text/latex": "TRUE",
            "text/markdown": "TRUE",
            "text/html": [
              "TRUE"
            ]
          },
          "metadata": {}
        }
      ]
    },
    {
      "cell_type": "markdown",
      "source": [
        "# Optional Challenge\n",
        "\n",
        "1. Write a R program to get the first 10 Fibonacci\n",
        "numbers."
      ],
      "metadata": {
        "id": "h99pZI3qoiVA"
      }
    },
    {
      "cell_type": "code",
      "source": [
        "# R program to compute the first ten Fibonacci numbers\n",
        "\n",
        "# Base case for n >= 2\n",
        "fib_base <- c(1,1)\n",
        "\n",
        "# set num to 3 for the first 3 Fibonacci numbers\n",
        "num <- 3\n",
        "# assign to indx variable\n",
        " indx <- num\n",
        "\n",
        "# Vector to hold Fibonacci numbers\n",
        " fib_10 <- c(fib_base)\n",
        "\n",
        "# compute the next Fibonacci number and update the vector with index\n",
        "# For loop to compute the next set of Fibonacci numbers\n",
        "\n",
        "for (indx in 3:10)\n",
        "\t{\n",
        "\t  fib_10[indx] <- sum(c(fib_10[c(indx-2, indx-1)]))\n",
        "\t}\n",
        "print(fib_10)"
      ],
      "metadata": {
        "colab": {
          "base_uri": "https://localhost:8080/"
        },
        "id": "lXgK7_6ioMjt",
        "outputId": "979b6886-bcca-4f94-ed20-cb03f7fccc57"
      },
      "execution_count": null,
      "outputs": [
        {
          "output_type": "stream",
          "name": "stdout",
          "text": [
            " [1]  1  1  2  3  5  8 13 21 34 55\n"
          ]
        }
      ]
    },
    {
      "cell_type": "code",
      "source": [
        ""
      ],
      "metadata": {
        "id": "noV96myPpJ0g"
      },
      "execution_count": null,
      "outputs": []
    },
    {
      "cell_type": "markdown",
      "source": [
        "2. Write a R program to print the numbers from 1 to 100\n",
        "and print \"Fizz\" for multiples of 3, print \"Buzz\" for\n",
        "multiples of 5, and print \"FizzBuzz\" for multiples of\n",
        "both."
      ],
      "metadata": {
        "id": "GUMqEgwLpXlV"
      }
    },
    {
      "cell_type": "code",
      "source": [
        "# Vector to hold numbers 1 to 100\n",
        "vec_nums <- 1:100L"
      ],
      "metadata": {
        "id": "ERlCE5fwpKdX"
      },
      "execution_count": null,
      "outputs": []
    },
    {
      "cell_type": "code",
      "source": [
        "vec_nums"
      ],
      "metadata": {
        "colab": {
          "base_uri": "https://localhost:8080/",
          "height": 69
        },
        "id": "Gjx18Qy-pLWx",
        "outputId": "cc1c77cd-1a70-43ea-8121-6fdba917b3a5"
      },
      "execution_count": null,
      "outputs": [
        {
          "output_type": "display_data",
          "data": {
            "text/plain": [
              "  [1]   1   2   3   4   5   6   7   8   9  10  11  12  13  14  15  16  17  18\n",
              " [19]  19  20  21  22  23  24  25  26  27  28  29  30  31  32  33  34  35  36\n",
              " [37]  37  38  39  40  41  42  43  44  45  46  47  48  49  50  51  52  53  54\n",
              " [55]  55  56  57  58  59  60  61  62  63  64  65  66  67  68  69  70  71  72\n",
              " [73]  73  74  75  76  77  78  79  80  81  82  83  84  85  86  87  88  89  90\n",
              " [91]  91  92  93  94  95  96  97  98  99 100"
            ],
            "text/latex": "\\begin{enumerate*}\n\\item 1\n\\item 2\n\\item 3\n\\item 4\n\\item 5\n\\item 6\n\\item 7\n\\item 8\n\\item 9\n\\item 10\n\\item 11\n\\item 12\n\\item 13\n\\item 14\n\\item 15\n\\item 16\n\\item 17\n\\item 18\n\\item 19\n\\item 20\n\\item 21\n\\item 22\n\\item 23\n\\item 24\n\\item 25\n\\item 26\n\\item 27\n\\item 28\n\\item 29\n\\item 30\n\\item 31\n\\item 32\n\\item 33\n\\item 34\n\\item 35\n\\item 36\n\\item 37\n\\item 38\n\\item 39\n\\item 40\n\\item 41\n\\item 42\n\\item 43\n\\item 44\n\\item 45\n\\item 46\n\\item 47\n\\item 48\n\\item 49\n\\item 50\n\\item 51\n\\item 52\n\\item 53\n\\item 54\n\\item 55\n\\item 56\n\\item 57\n\\item 58\n\\item 59\n\\item 60\n\\item 61\n\\item 62\n\\item 63\n\\item 64\n\\item 65\n\\item 66\n\\item 67\n\\item 68\n\\item 69\n\\item 70\n\\item 71\n\\item 72\n\\item 73\n\\item 74\n\\item 75\n\\item 76\n\\item 77\n\\item 78\n\\item 79\n\\item 80\n\\item 81\n\\item 82\n\\item 83\n\\item 84\n\\item 85\n\\item 86\n\\item 87\n\\item 88\n\\item 89\n\\item 90\n\\item 91\n\\item 92\n\\item 93\n\\item 94\n\\item 95\n\\item 96\n\\item 97\n\\item 98\n\\item 99\n\\item 100\n\\end{enumerate*}\n",
            "text/markdown": "1. 1\n2. 2\n3. 3\n4. 4\n5. 5\n6. 6\n7. 7\n8. 8\n9. 9\n10. 10\n11. 11\n12. 12\n13. 13\n14. 14\n15. 15\n16. 16\n17. 17\n18. 18\n19. 19\n20. 20\n21. 21\n22. 22\n23. 23\n24. 24\n25. 25\n26. 26\n27. 27\n28. 28\n29. 29\n30. 30\n31. 31\n32. 32\n33. 33\n34. 34\n35. 35\n36. 36\n37. 37\n38. 38\n39. 39\n40. 40\n41. 41\n42. 42\n43. 43\n44. 44\n45. 45\n46. 46\n47. 47\n48. 48\n49. 49\n50. 50\n51. 51\n52. 52\n53. 53\n54. 54\n55. 55\n56. 56\n57. 57\n58. 58\n59. 59\n60. 60\n61. 61\n62. 62\n63. 63\n64. 64\n65. 65\n66. 66\n67. 67\n68. 68\n69. 69\n70. 70\n71. 71\n72. 72\n73. 73\n74. 74\n75. 75\n76. 76\n77. 77\n78. 78\n79. 79\n80. 80\n81. 81\n82. 82\n83. 83\n84. 84\n85. 85\n86. 86\n87. 87\n88. 88\n89. 89\n90. 90\n91. 91\n92. 92\n93. 93\n94. 94\n95. 95\n96. 96\n97. 97\n98. 98\n99. 99\n100. 100\n\n\n",
            "text/html": [
              "<style>\n",
              ".list-inline {list-style: none; margin:0; padding: 0}\n",
              ".list-inline>li {display: inline-block}\n",
              ".list-inline>li:not(:last-child)::after {content: \"\\00b7\"; padding: 0 .5ex}\n",
              "</style>\n",
              "<ol class=list-inline><li>1</li><li>2</li><li>3</li><li>4</li><li>5</li><li>6</li><li>7</li><li>8</li><li>9</li><li>10</li><li>11</li><li>12</li><li>13</li><li>14</li><li>15</li><li>16</li><li>17</li><li>18</li><li>19</li><li>20</li><li>21</li><li>22</li><li>23</li><li>24</li><li>25</li><li>26</li><li>27</li><li>28</li><li>29</li><li>30</li><li>31</li><li>32</li><li>33</li><li>34</li><li>35</li><li>36</li><li>37</li><li>38</li><li>39</li><li>40</li><li>41</li><li>42</li><li>43</li><li>44</li><li>45</li><li>46</li><li>47</li><li>48</li><li>49</li><li>50</li><li>51</li><li>52</li><li>53</li><li>54</li><li>55</li><li>56</li><li>57</li><li>58</li><li>59</li><li>60</li><li>61</li><li>62</li><li>63</li><li>64</li><li>65</li><li>66</li><li>67</li><li>68</li><li>69</li><li>70</li><li>71</li><li>72</li><li>73</li><li>74</li><li>75</li><li>76</li><li>77</li><li>78</li><li>79</li><li>80</li><li>81</li><li>82</li><li>83</li><li>84</li><li>85</li><li>86</li><li>87</li><li>88</li><li>89</li><li>90</li><li>91</li><li>92</li><li>93</li><li>94</li><li>95</li><li>96</li><li>97</li><li>98</li><li>99</li><li>100</li></ol>\n"
            ]
          },
          "metadata": {}
        }
      ]
    },
    {
      "cell_type": "code",
      "source": [
        "\n",
        "  "
      ],
      "metadata": {
        "id": "h238tJbosGRM"
      },
      "execution_count": null,
      "outputs": []
    },
    {
      "cell_type": "code",
      "source": [
        ""
      ],
      "metadata": {
        "id": "_UZFAE-cvO1w"
      },
      "execution_count": null,
      "outputs": []
    },
    {
      "cell_type": "code",
      "source": [
        "# setup variables\n",
        "\n",
        "Fizz <- \"\"\n",
        "Buzz <- \"\"\n",
        "FizzBuzz <- \"\"\n",
        "vec_15_out <- \"\"\n",
        "vec_5_out <- \"\"\n",
        "vec_3_out <- \"\"\n",
        "n_15 <- 1L\n",
        "n_5 <- 1L\n",
        "n_3 <- 1L\n",
        "\n",
        "# Multipies of 15\n",
        "vec_15 <- vec_nums %% 15\n",
        "# Multipies of 5\n",
        "vec_5 <- vec_15 %% 5\n",
        "# Multipies of 3\n",
        "vec_3 <- vec_5 %% 3\n",
        "\n",
        "\n",
        "# Compute and print multiples of 3\n",
        "for (i in vec_3)\n",
        "{\n",
        "  if (i == 0)\n",
        "  {\n",
        "  vec_3_out[n_3] <- 'Fizz'  \n",
        "  print('Fizz')\n",
        "  n_3 <- n_3 +1\n",
        "  }\n",
        "}\n",
        "\n",
        "\n",
        "# Compute and print multiples of 5\n",
        "for (i in vec_5)\n",
        "{\n",
        "  \n",
        "  if (i == 0)\n",
        "  { \n",
        "  vec_5_out[n_5] <- 'Buzz'   \n",
        "  print('Buzz')\n",
        "  n_5 <- n_5 +1\n",
        "  }\n",
        "}\n",
        "\n",
        "\n",
        "\n",
        "\n",
        "# Compute and print multiples of 15\n",
        "\n",
        "for (i in vec_15)\n",
        "{\n",
        "  \n",
        "  if (i == 0)\n",
        "  { \n",
        "  vec_15_out[n_15] <- 'FizzBuzz'   \n",
        "  print('FizzBuzz')\n",
        "  n_15 <- n_15 +1\n",
        "  }\n",
        "\n",
        "}\n",
        "\n",
        "\n",
        "\n",
        "\n",
        "\n",
        "\n",
        "\n"
      ],
      "metadata": {
        "colab": {
          "base_uri": "https://localhost:8080/"
        },
        "id": "3gjqzxJ_ZsRS",
        "outputId": "4efb5429-7f90-4521-e368-e92979d32a2b"
      },
      "execution_count": 286,
      "outputs": [
        {
          "output_type": "stream",
          "name": "stdout",
          "text": [
            "[1] \"Fizz\"\n",
            "[1] \"Fizz\"\n",
            "[1] \"Fizz\"\n",
            "[1] \"Fizz\"\n",
            "[1] \"Fizz\"\n",
            "[1] \"Fizz\"\n",
            "[1] \"Fizz\"\n",
            "[1] \"Fizz\"\n",
            "[1] \"Fizz\"\n",
            "[1] \"Fizz\"\n",
            "[1] \"Fizz\"\n",
            "[1] \"Fizz\"\n",
            "[1] \"Fizz\"\n",
            "[1] \"Fizz\"\n",
            "[1] \"Fizz\"\n",
            "[1] \"Fizz\"\n",
            "[1] \"Fizz\"\n",
            "[1] \"Fizz\"\n",
            "[1] \"Fizz\"\n",
            "[1] \"Fizz\"\n",
            "[1] \"Fizz\"\n",
            "[1] \"Fizz\"\n",
            "[1] \"Fizz\"\n",
            "[1] \"Fizz\"\n",
            "[1] \"Fizz\"\n",
            "[1] \"Fizz\"\n",
            "[1] \"Fizz\"\n",
            "[1] \"Fizz\"\n",
            "[1] \"Fizz\"\n",
            "[1] \"Fizz\"\n",
            "[1] \"Fizz\"\n",
            "[1] \"Fizz\"\n",
            "[1] \"Fizz\"\n",
            "[1] \"Fizz\"\n",
            "[1] \"Fizz\"\n",
            "[1] \"Fizz\"\n",
            "[1] \"Fizz\"\n",
            "[1] \"Fizz\"\n",
            "[1] \"Fizz\"\n",
            "[1] \"Fizz\"\n",
            "[1] \"Buzz\"\n",
            "[1] \"Buzz\"\n",
            "[1] \"Buzz\"\n",
            "[1] \"Buzz\"\n",
            "[1] \"Buzz\"\n",
            "[1] \"Buzz\"\n",
            "[1] \"Buzz\"\n",
            "[1] \"Buzz\"\n",
            "[1] \"Buzz\"\n",
            "[1] \"Buzz\"\n",
            "[1] \"Buzz\"\n",
            "[1] \"Buzz\"\n",
            "[1] \"Buzz\"\n",
            "[1] \"Buzz\"\n",
            "[1] \"Buzz\"\n",
            "[1] \"Buzz\"\n",
            "[1] \"Buzz\"\n",
            "[1] \"Buzz\"\n",
            "[1] \"Buzz\"\n",
            "[1] \"Buzz\"\n",
            "[1] \"FizzBuzz\"\n",
            "[1] \"FizzBuzz\"\n",
            "[1] \"FizzBuzz\"\n",
            "[1] \"FizzBuzz\"\n",
            "[1] \"FizzBuzz\"\n",
            "[1] \"FizzBuzz\"\n"
          ]
        }
      ]
    },
    {
      "cell_type": "code",
      "source": [
        "length(vec_15_out)"
      ],
      "metadata": {
        "colab": {
          "base_uri": "https://localhost:8080/",
          "height": 34
        },
        "id": "VmmhRkT-ZsvL",
        "outputId": "053fa1d3-2f1e-4b40-96d1-637d6babd5cb"
      },
      "execution_count": 287,
      "outputs": [
        {
          "output_type": "display_data",
          "data": {
            "text/plain": [
              "[1] 6"
            ],
            "text/latex": "6",
            "text/markdown": "6",
            "text/html": [
              "6"
            ]
          },
          "metadata": {}
        }
      ]
    },
    {
      "cell_type": "code",
      "source": [
        "length(vec_5_out)"
      ],
      "metadata": {
        "colab": {
          "base_uri": "https://localhost:8080/",
          "height": 34
        },
        "id": "NA77w6mcpBXE",
        "outputId": "45d5bf0a-7397-42ec-8123-ce346770ef0a"
      },
      "execution_count": 288,
      "outputs": [
        {
          "output_type": "display_data",
          "data": {
            "text/plain": [
              "[1] 20"
            ],
            "text/latex": "20",
            "text/markdown": "20",
            "text/html": [
              "20"
            ]
          },
          "metadata": {}
        }
      ]
    },
    {
      "cell_type": "code",
      "source": [
        "length(vec_3_out)\n"
      ],
      "metadata": {
        "colab": {
          "base_uri": "https://localhost:8080/",
          "height": 34
        },
        "id": "LayymPn6pCG6",
        "outputId": "88532d45-e6f4-4829-9101-141d980da2ac"
      },
      "execution_count": 289,
      "outputs": [
        {
          "output_type": "display_data",
          "data": {
            "text/plain": [
              "[1] 40"
            ],
            "text/latex": "40",
            "text/markdown": "40",
            "text/html": [
              "40"
            ]
          },
          "metadata": {}
        }
      ]
    },
    {
      "cell_type": "code",
      "source": [
        ""
      ],
      "metadata": {
        "id": "yWWrdFmHZtNU"
      },
      "execution_count": null,
      "outputs": []
    },
    {
      "cell_type": "code",
      "source": [
        ""
      ],
      "metadata": {
        "id": "bZaEcBU3Wmd5"
      },
      "execution_count": null,
      "outputs": []
    },
    {
      "cell_type": "code",
      "source": [
        ""
      ],
      "metadata": {
        "id": "xoV6IoRVJfrR"
      },
      "execution_count": null,
      "outputs": []
    }
  ]
}
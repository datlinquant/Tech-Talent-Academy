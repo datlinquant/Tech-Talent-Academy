{
  "nbformat": 4,
  "nbformat_minor": 0,
  "metadata": {
    "colab": {
      "name": "Session3_v14_HLT.ipynb",
      "provenance": [],
      "collapsed_sections": []
    },
    "kernelspec": {
      "name": "python3",
      "display_name": "Python 3"
    },
    "language_info": {
      "name": "python"
    }
  },
  "cells": [
    {
      "cell_type": "code",
      "metadata": {
        "id": "iuuMxUBhlruT"
      },
      "source": [
        "# Murphy Campbell\n",
        "# email: murphybcampbell@googlemail.com\n",
        "\n",
        "# TTA Data Academy Home Learning: Session 3\n",
        "\n",
        "# Reference: https://www.w3schools.com/python/default.asp \n",
        "# Reference: https://www.python.org\n",
        "# Reference: https://numpy.org\n",
        "\n",
        "import numpy as np\n",
        "\n",
        "\n",
        "\n"
      ],
      "execution_count": null,
      "outputs": []
    },
    {
      "cell_type": "code",
      "metadata": {
        "id": "xFvP0-MS1Hua"
      },
      "source": [
        ""
      ],
      "execution_count": null,
      "outputs": []
    },
    {
      "cell_type": "code",
      "metadata": {
        "id": "nzDfVCpF1m5p",
        "colab": {
          "base_uri": "https://localhost:8080/"
        },
        "outputId": "9dbb1295-303a-4b48-efc5-7b79f200e331"
      },
      "source": [
        "# Murphy Campbell\n",
        "# email: murphybcampbell@googlemail.com\n",
        "\n",
        "# TTA Data Academy Home Learning: Session 3\n",
        "\n",
        "# Task 1\n",
        "# Write a program that allows you to enter 4 numbers\n",
        "# and stores them in a file called “Numbers” , 3, 45, 83, 21\n",
        "# Have a go at ‘w’ ‘r’ ‘a’\n",
        "\n",
        "\n",
        "import numpy as np\n",
        "\n",
        "mylist = [0 for i in range(20)]\n",
        "# Initialize list filled with 20 zeros\n",
        "file_hdw = open('easy.txt',\"w\")\n",
        "print(\"Please enter each of the number 3, 45, 83, 21\")\n",
        "\n",
        "\n",
        "for i in range(0,4):\n",
        " \n",
        " print(f\"{i+1} Enter a number \")\n",
        " mylist[i] = str(input().split(', '))\n",
        " # Split keyed in numbers store in list\n",
        "\n",
        "for i in range(0,4):\n",
        " file_hdw.write(mylist[i])\n",
        " # write list to file\n",
        "file_hdw.close()\n",
        "\n",
        "\n",
        "## Appending section ##\n",
        "file_hdw = open('easy.txt',\"a\")\n",
        "# Open file in append mode\n",
        "n = 4\n",
        "while (n < 7):\n",
        "\n",
        "  print(f\" Enter three more numbers \")\n",
        "  mylist[n] = str(input().split(', ')) \n",
        "  n = n + 1\n",
        "\n",
        "m = 4\n",
        "while (m < 7):\n",
        "  file_hdw.write(mylist[m])\n",
        "  m = m + 1\n",
        "\n",
        "file_hdw.close()  \n",
        "\n",
        " \n",
        "\n",
        "\n",
        "file_hdr = open(\"easy.txt\",\"r\")\n",
        "data = file_hdr.read()\n",
        "# Read file \n",
        "file_hdr.close()\n",
        "\n",
        "print(f\"These are the numbers you have entered{data}\")\n",
        "# Print data in the file\n",
        "\n",
        "\n",
        "\n"
      ],
      "execution_count": null,
      "outputs": [
        {
          "output_type": "stream",
          "name": "stdout",
          "text": [
            "Please enter each of the number 3, 45, 83, 21\n",
            "1 Enter a number \n",
            "3\n",
            "2 Enter a number \n",
            "45\n",
            "3 Enter a number \n",
            "83\n",
            "4 Enter a number \n",
            "21\n",
            " Enter three more numbers \n",
            "55\n",
            " Enter three more numbers \n",
            "78\n",
            " Enter three more numbers \n",
            "9\n",
            "These are the numbers you have entered['3']['45']['83']['21']['55']['78']['9']\n"
          ]
        }
      ]
    },
    {
      "cell_type": "code",
      "metadata": {
        "id": "1Hq76mrC1nbz"
      },
      "source": [
        ""
      ],
      "execution_count": null,
      "outputs": []
    },
    {
      "cell_type": "code",
      "metadata": {
        "id": "wUr_GiOM1n_p",
        "colab": {
          "base_uri": "https://localhost:8080/"
        },
        "outputId": "04d01d38-5019-4e2c-d400-787abdb8d066"
      },
      "source": [
        "# Murphy Campbell\n",
        "# email: murphybcampbell@googlemail.com\n",
        "\n",
        "# TTA Data Academy Home Learning: Session 3\n",
        "\n",
        "\n",
        "# Write a program to ask a student for their percentage mark\n",
        "# and convert this to a grade.\n",
        "# The conversion will be done in a function called mark_grade\n",
        "\n",
        "import numpy as np\n",
        "\n",
        "\n",
        "mark = 0\n",
        "grade = \"\"\n",
        "x = mark \n",
        "\n",
        "def mark_grade(mark):\n",
        "   x = int(mark)\n",
        "\n",
        "   if (80 <= x <= 100):\n",
        "     print('Your grade is \"A\" Top of the class')\n",
        "     \n",
        "   \n",
        "   if (65 <= x <= 80):\n",
        "     print('Your grade is \"B\" Well done')\n",
        "     \n",
        "\n",
        "   if (50 <= x <= 65):\n",
        "     print('Your grade is \"C\" Keep working')\n",
        "\n",
        "   if (40 <= x <= 50):\n",
        "     print('Your grade is \"D\" Do not give up on your class')\n",
        "\n",
        "   if (30 <= x <= 40):\n",
        "     print('Your grade is \"E\" Keep going')\n",
        "\n",
        "   if (0 <= x <= 30):\n",
        "     print('Your grade is \"F\" You cannot be graded, try next term')\n",
        "   \n",
        "     \n",
        "\n",
        "   #else:\n",
        "     #print(\"Practice makes perfect\")  \n",
        "\n",
        "   return(grade)\n",
        "\n",
        "\n",
        "\n",
        "  \n",
        "\n",
        "print(\"Enter your mark\")\n",
        "mark = input()\n",
        "result = mark_grade(mark)\n",
        "\n",
        "           \n",
        "\n",
        "\n",
        "\n",
        "\n"
      ],
      "execution_count": null,
      "outputs": [
        {
          "output_type": "stream",
          "name": "stdout",
          "text": [
            "Enter your mark\n",
            "34\n",
            "Your grade is \"E\" Keep going\n"
          ]
        }
      ]
    },
    {
      "cell_type": "code",
      "metadata": {
        "id": "BQQC8SxKRQKY"
      },
      "source": [
        ""
      ],
      "execution_count": null,
      "outputs": []
    },
    {
      "cell_type": "code",
      "metadata": {
        "id": "FKD7tfXZU__1"
      },
      "source": [
        ""
      ],
      "execution_count": null,
      "outputs": []
    },
    {
      "cell_type": "code",
      "metadata": {
        "colab": {
          "base_uri": "https://localhost:8080/"
        },
        "id": "NXMoj_u3KVWJ",
        "outputId": "36884b9e-29db-407d-caae-94de28d0a3db"
      },
      "source": [
        "# Murphy Campbell\n",
        "# email: murphybcampbell@googlemail.com\n",
        "\n",
        "# TTA Data Academy Home Learning: Session 3\n",
        "\n",
        "# Extension to Task 2\n",
        "\n",
        "# Ask the user for their target grade and print this with their mark\n",
        "# If their target grade > exam grade display a suitable message\n",
        "\n",
        "# If their target grade = exam grade display a suitable mesaage\n",
        "# If their target grade < exam grade display a suitable message\n",
        "\n",
        "import numpy as np\n",
        "\n",
        "\n",
        "\n",
        "mark = \"\"\n",
        "grade = \"\"\n",
        "x = mark \n",
        "ops = {}\n",
        "ops1 = {}\n",
        "num = 0\n",
        "exam_grade = \"B\"\n",
        "grade_in = \"\"\n",
        "\n",
        "\n",
        "def mark_grade(mark):       # Defined mark_grade function\n",
        "    global grade\n",
        "    global x\n",
        "    char = str(grade)\n",
        "    \n",
        "\n",
        "    ops = { \"A\":'\"Your target grade is \"A\", You require a mark that is at least 80%\"',                \n",
        "            \"B\":'\"Your target grade is \"B\",You require a mark that is at least 65%\"',               \n",
        "            \"C\":'\"Your target grade is \"C\",You require a mark that is at least 50%\"',\n",
        "            \"D\":'\"Your target grade is \"D\",You require a mark that is at least 40%\"',\n",
        "            \"E\":'\"Your target grade is \"E\",You require a mark that is at least 30%\"',\n",
        "            \"F\":'\"Your target grade is \"F\",Your work cannot be graded\"',\n",
        "             }\n",
        "    grade = ops[char]\n",
        "    \n",
        "\n",
        "\n",
        "    return(grade)\n",
        "\n",
        "\n",
        "\n",
        "\n",
        "grade = input().upper()\n",
        "grade_in = grade\n",
        "\n",
        "\n",
        "\n",
        "\n",
        "\n",
        "result = mark_grade(grade)\n",
        "print(result)\n",
        "\n",
        "\n",
        "\n",
        "\n",
        "ops1 =  { \"A\":'\"Gifted learner\"',                \n",
        "          \"B\":'\"Very Good\"',               \n",
        "          \"C\":'\"keep working\"',\n",
        "          \"E\":'\"Keep working\"',\n",
        "          \"F\":'\"Keep working\"'\n",
        "        }\n",
        "\n",
        "print(ops1[grade_in])        \n",
        "\n",
        "       \n",
        "\n",
        "\n"
      ],
      "execution_count": null,
      "outputs": [
        {
          "output_type": "stream",
          "name": "stdout",
          "text": [
            "a\n",
            "\"Your target grade is \"A\", You require a mark that is at least 80%\"\n",
            "\"Gifted learner\"\n"
          ]
        }
      ]
    },
    {
      "cell_type": "code",
      "metadata": {
        "id": "61CwFgCYwJVe"
      },
      "source": [
        ""
      ],
      "execution_count": null,
      "outputs": []
    },
    {
      "cell_type": "code",
      "metadata": {
        "id": "RYW-Un5ovN6y"
      },
      "source": [
        ""
      ],
      "execution_count": null,
      "outputs": []
    },
    {
      "cell_type": "code",
      "metadata": {
        "id": "N0OA2sx01IrK"
      },
      "source": [
        "# Murphy Campbell\n",
        "# email: murphybcampbell@googlemail.com\n",
        "\n",
        "# TTA Data Academy Home Learning: Session 3\n",
        "\n",
        "import numpy as np\n",
        "\n",
        "\n",
        "# 1. Create a 1D array of numbers from 0 to 9\n",
        "\n",
        "vector = np.arange(0,10)\n",
        "print(vector)"
      ],
      "execution_count": null,
      "outputs": []
    },
    {
      "cell_type": "code",
      "metadata": {
        "id": "vWBNLiz7pan7"
      },
      "source": [
        "# Murphy Campbell\n",
        "# email: murphybcampbell@googlemail.com\n",
        "\n",
        "# TTA Data Academy Home Learning: Session 3\n",
        "\n",
        "import numpy as np\n",
        "\n",
        "\n",
        "# 2. Create a 3×3 NumPy array of all Boolean value True\n",
        "\n",
        "a = np.ones(9)\n",
        "# Using numPy ones function to fill a array with nine ones \n",
        "b = np.array(a,dtype=bool)\n",
        "# Cast the array of nine ones to data type bool\n",
        "c = b.reshape(3,3) \n",
        "# Use the reshape function \n",
        "c           "
      ],
      "execution_count": null,
      "outputs": []
    },
    {
      "cell_type": "code",
      "metadata": {
        "id": "2iEMGCnpsNom"
      },
      "source": [
        "# Murphy Campbell\n",
        "# email: murphybcampbell@googlemail.com\n",
        "\n",
        "# TTA Data Academy Home Learning: Session 3\n",
        "\n",
        "\n",
        "# 3.  Extract all odd numbers from array of 1-10\n",
        "\n",
        "import numpy as np\n",
        "\n",
        "\n",
        "vect = np.arange(1,10, dtype=int)\n",
        "# Construcr a numpy one dimension(vector) array with integers range 1 to 10\n",
        "\n",
        "vecta = np.mod(vect,2)\n",
        "# Take modulas of the elements in array \n",
        "vectb = np.multiply(vecta,vect)\n",
        "# Muliply arrays to get odd numbers\n",
        "\n",
        "vect_odd = np.extract(vectb >=1, vectb)\n",
        "# Extract odd numbers\n",
        "\n",
        "vect_odd\n",
        "\n",
        "## Trying Another solution\n",
        "\n",
        "vect_d1 = np.where(vect % 2)\n",
        "# vect_odd1 = np.extract(vect_d1 >=1, vect_d1)\n",
        "\n",
        "\n",
        "\n",
        "#vect_d1\n",
        "\n"
      ],
      "execution_count": null,
      "outputs": []
    },
    {
      "cell_type": "code",
      "metadata": {
        "id": "H1yrH-WOlrhD"
      },
      "source": [
        ""
      ],
      "execution_count": null,
      "outputs": []
    },
    {
      "cell_type": "code",
      "metadata": {
        "id": "vZz7N3-hs5e1"
      },
      "source": [
        "\n"
      ],
      "execution_count": null,
      "outputs": []
    },
    {
      "cell_type": "code",
      "metadata": {
        "id": "k8vTIR1p1ads"
      },
      "source": [
        "# Murphy Campbell\n",
        "# email: murphybcampbell@googlemail.com\n",
        "\n",
        "# TTA Data Academy Home Learning: Session 3\n",
        "\n",
        "\n",
        "import numpy as np\n",
        "\n",
        "# Trying out 2 Dimension array ###\n",
        "\n",
        "# Extract all odd numbers from array of 1-10\n",
        "\n",
        "D1 = np.arange(1,11, dtype=int) \n",
        "# Construcr a numpy one dimension(vector) array with integers range 1 to 10\n",
        "D2_5 = D1.reshape(2,5)\n",
        "# Reshape to 2 dimension array, 2 rows,5 cols\n",
        "print(D2_5)\n",
        "type(D2_5)\n",
        "D2_5a = np.mod(D2_5,2)\n",
        "# Take modulas of the elements in array \n",
        "D2_5m = np.multiply(D2_5,D2_5a)\n",
        "# Muliply arrays to get odd numbers\n",
        "D2_5m_odd = np.nonzero(D2_5m)\n",
        "# Select odd numbers from the array \n",
        "\n",
        "print(D2_5a)\n",
        "print(D2_5m)\n",
        "print(D2_5m_odd)"
      ],
      "execution_count": null,
      "outputs": []
    },
    {
      "cell_type": "code",
      "metadata": {
        "id": "ICf1PZPvtu6Z"
      },
      "source": [
        "\n",
        "# Murphy Campbell\n",
        "# email: murphybcampbell@googlemail.com\n",
        "\n",
        "# TTA Data Academy Home Learning: Session 3\n",
        "\n",
        "\n",
        "# 4. Replace all odd numbers in an array of 1-10 with the value -1\n",
        "\n",
        "import numpy as np\n",
        "\n",
        "vect = np.arange(1,10, dtype=int)\n",
        "# Construcr a numpy one dimension(vector) array with integers range 1 to 10\n",
        "\n",
        "vecta = np.mod(vect,2)\n",
        "# Take modulas of the elements in array \n",
        "vectb = np.multiply(vecta,vect)\n",
        "# Muliply arrays to get odd numbers\n",
        "\n",
        "vect_odd = np.extract(vectb >=1, vectb)\n",
        "# Extract odd numbers\n",
        "\n"
      ],
      "execution_count": null,
      "outputs": []
    },
    {
      "cell_type": "code",
      "metadata": {
        "id": "AzYtk9ycmJml"
      },
      "source": [
        "# Murphy Campbell\n",
        "# email: murphybcampbell@googlemail.com\n",
        "\n",
        "# TTA Data Academy Home Learning: Session 3\n",
        "\n",
        "\n",
        "# 5. Convert a 1D array to a 2D array with 2 rows\n",
        "\n",
        "import numpy as np\n",
        "\n",
        "array_1D = np.arange(1,11)\n",
        "array_2D = array_1D.reshape(2,5)\n",
        "print(array_2D)\n"
      ],
      "execution_count": null,
      "outputs": []
    },
    {
      "cell_type": "code",
      "metadata": {
        "id": "OKub8W4DyNjG"
      },
      "source": [
        "# Murphy Campbell\n",
        "# email: murphybcampbell@googlemail.com\n",
        "\n",
        "# TTA Data Academy Home Learning: Session 3\n",
        "\n",
        "import numpy as np\n",
        "\n",
        "# 6. Create two arrays a and b, stack these two arrays vertically \n",
        "#     use the np.dot and np.sum to calculate totals\n",
        "\n",
        "#array_a, array_b = np.arange(1,6),np.arange(6,11)\n",
        "array_a, array_b = np.arange(1,3),np.arange(3,5)\n",
        "array_v = np.vstack((array_a, array_b))\n",
        "# Vertically stacked arrays\n",
        "\n",
        "array_v\n",
        "\n",
        "print(np.dot(array_a,array_b))\n",
        "print(np.sum(array_v))\n",
        " \n",
        "# Used the np.dot and np.sum to multiply and add the arrays\n",
        "\n",
        "\n",
        "\n",
        "\n",
        "\n"
      ],
      "execution_count": null,
      "outputs": []
    },
    {
      "cell_type": "code",
      "metadata": {
        "id": "KXh0EyySyjbS"
      },
      "source": [
        "# Murphy Campbell\n",
        "# email: murphybcampbell@googlemail.com\n",
        "\n",
        "# TTA Data Academy Home Learning: Session 3\n",
        "\n",
        "\n",
        "# Extension:\n",
        "\n",
        "# 1. Create the following pattern without hardcoding. Use only NumPy functions.\n",
        "#   array([1,1,1,2,2,2,3,3,3,1,2,3,1,2,3,1,2,3])\n",
        "\n",
        "import numpy as np\n",
        "\n",
        "\n",
        "num2 = int(2)\n",
        "num3 = int(3)\n",
        "\n",
        "# Configure array of 3 ones with integer data type\n",
        "array_1 = np.ones((3,1),dtype = np.int)\n",
        "# Scalar multiplication by 2 of array\n",
        "array_2 = np.multiply(num2,array_1)\n",
        "# Scalar multiplication by 3 of array\n",
        "array_3 = np.multiply(num3,array_1)\n",
        "\n",
        "array_all_h = np.hstack((array_1,array_2,array_3)).reshape(1,9)\n",
        "# Stack arrays horizontally and reshape with 1 row and 9 cols\n",
        "array_all_v = np.vstack((array_1,array_2,array_3)).reshape(1,9)\n",
        "# Stack arrays Vertically and reshape with 1 row and 9 cols\n",
        "\n",
        "\n",
        "array_full = np.hstack((array_all_v, array_all_h))\n",
        "# Stack arrays horizontally\n",
        "\n",
        "\n",
        "array_full\n",
        "\n",
        "\n"
      ],
      "execution_count": null,
      "outputs": []
    },
    {
      "cell_type": "code",
      "metadata": {
        "id": "CRZ1YzOVyOIo"
      },
      "source": [
        "# Murphy Campbell\n",
        "# email: murphybcampbell@googlemail.com\n",
        "\n",
        "# TTA Data Academy Home Learning: Session 3\n",
        "\n",
        "# 2. In two arrays a ( 1,2,3,4,5) and b ( 4,5,6,7,8,9) \n",
        "#     – remove all repeating items present in array b\n",
        "\n",
        "import numpy as np\n",
        "\n",
        "a1 = np.arange(1,6)\n",
        "\n",
        "b1 = np.arange(4,10)\n",
        "\n",
        "\n",
        "mask = np.isin(a1,b1)\n",
        "# Using np.isin() function with array a1 elements as the input\n",
        "# b1 elements as the testing elements\n",
        "# \n",
        "# Boolean array is returned where match values being True, \n",
        "# and unmatched values False\n",
        "\n",
        "a1[mask]\n",
        "# Returns a flatten array from a1 array elements where \n",
        "# the mask array element is True.  \n",
        "\n",
        "\n"
      ],
      "execution_count": null,
      "outputs": []
    },
    {
      "cell_type": "code",
      "metadata": {
        "id": "LJj6zcaPytJF",
        "colab": {
          "base_uri": "https://localhost:8080/"
        },
        "outputId": "eabc8572-71d4-41ae-94a8-c9b7765a107f"
      },
      "source": [
        "\n",
        "\n",
        "# Murphy Campbell\n",
        "# email: murphybcampbell@googlemail.com\n",
        "\n",
        "# TTA Data Academy Home Learning: Session 3\n",
        "\n",
        "# 3.  Get all items between 3 and 7 from a and b and sum them together\n",
        "\n",
        "\n",
        "import numpy as np\n",
        "\n",
        "a1 = np.arange(1,6)\n",
        "b1= np.arange(4,10)\n",
        "\n",
        "\n",
        "\n",
        "a1_ex = np.extract(a1 <=3, a1 >=7)\n",
        "b1_ex = np.extract(b1 <=7, b1 >=3)\n",
        "\n",
        "arry_stack = np.hstack((a1_ex,b1_ex))\n",
        "\n",
        "np.sum(arry_stack)\n",
        "\n"
      ],
      "execution_count": null,
      "outputs": [
        {
          "output_type": "execute_result",
          "data": {
            "text/plain": [
              "4"
            ]
          },
          "metadata": {},
          "execution_count": 89
        }
      ]
    },
    {
      "cell_type": "code",
      "metadata": {
        "id": "5Krsl3O3zsQD"
      },
      "source": [
        ""
      ],
      "execution_count": null,
      "outputs": []
    },
    {
      "cell_type": "code",
      "metadata": {
        "id": "n9RRIlggztKj"
      },
      "source": [
        ""
      ],
      "execution_count": null,
      "outputs": []
    },
    {
      "cell_type": "code",
      "metadata": {
        "id": "rzPrx8QOsO67"
      },
      "source": [
        ""
      ],
      "execution_count": null,
      "outputs": []
    }
  ]
}
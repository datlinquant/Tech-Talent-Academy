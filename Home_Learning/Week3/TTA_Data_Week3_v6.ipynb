{
  "nbformat": 4,
  "nbformat_minor": 0,
  "metadata": {
    "colab": {
      "name": "TTA_Data_Week3_v6.ipynb",
      "provenance": [],
      "collapsed_sections": []
    },
    "kernelspec": {
      "name": "python3",
      "display_name": "Python 3"
    },
    "language_info": {
      "name": "python"
    }
  },
  "cells": [
    {
      "cell_type": "code",
      "metadata": {
        "id": "lRfrfnkMCLaA"
      },
      "source": [
        ""
      ],
      "execution_count": 413,
      "outputs": []
    },
    {
      "cell_type": "code",
      "metadata": {
        "id": "5zCN1uL-CQgJ"
      },
      "source": [
        "# Murphy Campbell\n",
        "# email: murphybcampbell@googlemail.com\n",
        "\n",
        "# TTA Data Academy Home Learning: Session Week 3\n",
        "\n",
        "# Reference: https://www.w3schools.com/python/default.asp \n",
        "# Reference: https://www.python.org\n",
        "# Reference: https://numpy.org\n",
        "\n"
      ],
      "execution_count": 414,
      "outputs": []
    },
    {
      "cell_type": "code",
      "metadata": {
        "id": "Vcvl24cTCRIy"
      },
      "source": [
        "import pandas as pd\n",
        "import csv \n",
        "import numpy as np\n",
        "\n",
        "# All work carried out on Google Colab\n",
        "# csv file created when all code cells have been run"
      ],
      "execution_count": 415,
      "outputs": []
    },
    {
      "cell_type": "code",
      "metadata": {
        "id": "Md33VdHECXKs"
      },
      "source": [
        "# Set up dictionary with lists of data\n",
        "data = {\"Destination\":\n",
        "        [\"Madrid\",\n",
        "        \"Paris\",\n",
        "        \"Rome\",\n",
        "        \"Faro\",\n",
        "        \"New York\",\n",
        "        \"Larisa\",\n",
        "        \"Montego Bay\",\n",
        "        \"Istanbul\",\n",
        "        \"Lerick\",\n",
        "        \"Berlin\",\n",
        "        \"Dubai\",\n",
        "        \"Warsaw\",\n",
        "        \"Zagreb\",\n",
        "        \"Reykjavik\",\n",
        "        \"Sydney\"\n",
        "        ],\n",
        "        \"Feedback_score\":\n",
        "        [6,4,7,8,3,2,7,5,4,2,3,4,2,1,2],\n",
        "        \"Average_hotel_star_rating\":\n",
        "        [2,3,2,4,3,4,4,3,2,2,3,1,2,3,3],\n",
        "        \"No_of_all_inclusive_hotels\":\n",
        "        [23,45,64,33,61,45,37,43,38,27,34,21,15,14,23]\n",
        "       }"
      ],
      "execution_count": 416,
      "outputs": []
    },
    {
      "cell_type": "code",
      "metadata": {
        "id": "RTvl7xPGCgPo"
      },
      "source": [
        "# Write dictionary to data.csv file \n",
        "\n",
        "with open(\"data.csv\", \"w\") as file_hdle:\n",
        "   writer = csv.writer(file_hdle)\n",
        "   writer.writerow(data.keys())\n",
        "   writer.writerows(zip(*data.values()))"
      ],
      "execution_count": 417,
      "outputs": []
    },
    {
      "cell_type": "code",
      "metadata": {
        "colab": {
          "base_uri": "https://localhost:8080/"
        },
        "id": "pVy2PbstPF8m",
        "outputId": "63004d94-d94b-48b6-ead0-2c537ebc0ad6"
      },
      "source": [
        " # Reading the data.csv file\n",
        "\n",
        "\n",
        " with open(\"data.csv\", mode=\"r\") as file_hdle:\n",
        "  reader = csv.reader(file_hdle, delimiter=\",\")\n",
        "  for row in reader:\n",
        "   print(row)\n"
      ],
      "execution_count": 418,
      "outputs": [
        {
          "output_type": "stream",
          "name": "stdout",
          "text": [
            "['Destination', 'Feedback_score', 'Average_hotel_star_rating', 'No_of_all_inclusive_hotels']\n",
            "['Madrid', '6', '2', '23']\n",
            "['Paris', '4', '3', '45']\n",
            "['Rome', '7', '2', '64']\n",
            "['Faro', '8', '4', '33']\n",
            "['New York', '3', '3', '61']\n",
            "['Larisa', '2', '4', '45']\n",
            "['Montego Bay', '7', '4', '37']\n",
            "['Istanbul', '5', '3', '43']\n",
            "['Lerick', '4', '2', '38']\n",
            "['Berlin', '2', '2', '27']\n",
            "['Dubai', '3', '3', '34']\n",
            "['Warsaw', '4', '1', '21']\n",
            "['Zagreb', '2', '2', '15']\n",
            "['Reykjavik', '1', '3', '14']\n",
            "['Sydney', '2', '3', '23']\n"
          ]
        }
      ]
    },
    {
      "cell_type": "code",
      "metadata": {
        "id": "FcceMr0EPGfi"
      },
      "source": [
        "# Read data.csv into Pandas DataFrame using pd.read_csv\n",
        "data_df = pd.read_csv('data.csv')"
      ],
      "execution_count": 419,
      "outputs": []
    },
    {
      "cell_type": "code",
      "metadata": {
        "colab": {
          "base_uri": "https://localhost:8080/",
          "height": 516
        },
        "id": "LGf_-gN0VYqw",
        "outputId": "bd995497-66e7-4893-dde0-cf6550cc8000"
      },
      "source": [
        "data_df"
      ],
      "execution_count": 420,
      "outputs": [
        {
          "output_type": "execute_result",
          "data": {
            "text/html": [
              "<div>\n",
              "<style scoped>\n",
              "    .dataframe tbody tr th:only-of-type {\n",
              "        vertical-align: middle;\n",
              "    }\n",
              "\n",
              "    .dataframe tbody tr th {\n",
              "        vertical-align: top;\n",
              "    }\n",
              "\n",
              "    .dataframe thead th {\n",
              "        text-align: right;\n",
              "    }\n",
              "</style>\n",
              "<table border=\"1\" class=\"dataframe\">\n",
              "  <thead>\n",
              "    <tr style=\"text-align: right;\">\n",
              "      <th></th>\n",
              "      <th>Destination</th>\n",
              "      <th>Feedback_score</th>\n",
              "      <th>Average_hotel_star_rating</th>\n",
              "      <th>No_of_all_inclusive_hotels</th>\n",
              "    </tr>\n",
              "  </thead>\n",
              "  <tbody>\n",
              "    <tr>\n",
              "      <th>0</th>\n",
              "      <td>Madrid</td>\n",
              "      <td>6</td>\n",
              "      <td>2</td>\n",
              "      <td>23</td>\n",
              "    </tr>\n",
              "    <tr>\n",
              "      <th>1</th>\n",
              "      <td>Paris</td>\n",
              "      <td>4</td>\n",
              "      <td>3</td>\n",
              "      <td>45</td>\n",
              "    </tr>\n",
              "    <tr>\n",
              "      <th>2</th>\n",
              "      <td>Rome</td>\n",
              "      <td>7</td>\n",
              "      <td>2</td>\n",
              "      <td>64</td>\n",
              "    </tr>\n",
              "    <tr>\n",
              "      <th>3</th>\n",
              "      <td>Faro</td>\n",
              "      <td>8</td>\n",
              "      <td>4</td>\n",
              "      <td>33</td>\n",
              "    </tr>\n",
              "    <tr>\n",
              "      <th>4</th>\n",
              "      <td>New York</td>\n",
              "      <td>3</td>\n",
              "      <td>3</td>\n",
              "      <td>61</td>\n",
              "    </tr>\n",
              "    <tr>\n",
              "      <th>5</th>\n",
              "      <td>Larisa</td>\n",
              "      <td>2</td>\n",
              "      <td>4</td>\n",
              "      <td>45</td>\n",
              "    </tr>\n",
              "    <tr>\n",
              "      <th>6</th>\n",
              "      <td>Montego Bay</td>\n",
              "      <td>7</td>\n",
              "      <td>4</td>\n",
              "      <td>37</td>\n",
              "    </tr>\n",
              "    <tr>\n",
              "      <th>7</th>\n",
              "      <td>Istanbul</td>\n",
              "      <td>5</td>\n",
              "      <td>3</td>\n",
              "      <td>43</td>\n",
              "    </tr>\n",
              "    <tr>\n",
              "      <th>8</th>\n",
              "      <td>Lerick</td>\n",
              "      <td>4</td>\n",
              "      <td>2</td>\n",
              "      <td>38</td>\n",
              "    </tr>\n",
              "    <tr>\n",
              "      <th>9</th>\n",
              "      <td>Berlin</td>\n",
              "      <td>2</td>\n",
              "      <td>2</td>\n",
              "      <td>27</td>\n",
              "    </tr>\n",
              "    <tr>\n",
              "      <th>10</th>\n",
              "      <td>Dubai</td>\n",
              "      <td>3</td>\n",
              "      <td>3</td>\n",
              "      <td>34</td>\n",
              "    </tr>\n",
              "    <tr>\n",
              "      <th>11</th>\n",
              "      <td>Warsaw</td>\n",
              "      <td>4</td>\n",
              "      <td>1</td>\n",
              "      <td>21</td>\n",
              "    </tr>\n",
              "    <tr>\n",
              "      <th>12</th>\n",
              "      <td>Zagreb</td>\n",
              "      <td>2</td>\n",
              "      <td>2</td>\n",
              "      <td>15</td>\n",
              "    </tr>\n",
              "    <tr>\n",
              "      <th>13</th>\n",
              "      <td>Reykjavik</td>\n",
              "      <td>1</td>\n",
              "      <td>3</td>\n",
              "      <td>14</td>\n",
              "    </tr>\n",
              "    <tr>\n",
              "      <th>14</th>\n",
              "      <td>Sydney</td>\n",
              "      <td>2</td>\n",
              "      <td>3</td>\n",
              "      <td>23</td>\n",
              "    </tr>\n",
              "  </tbody>\n",
              "</table>\n",
              "</div>"
            ],
            "text/plain": [
              "    Destination  ...  No_of_all_inclusive_hotels\n",
              "0        Madrid  ...                          23\n",
              "1         Paris  ...                          45\n",
              "2          Rome  ...                          64\n",
              "3          Faro  ...                          33\n",
              "4      New York  ...                          61\n",
              "5        Larisa  ...                          45\n",
              "6   Montego Bay  ...                          37\n",
              "7      Istanbul  ...                          43\n",
              "8        Lerick  ...                          38\n",
              "9        Berlin  ...                          27\n",
              "10        Dubai  ...                          34\n",
              "11       Warsaw  ...                          21\n",
              "12       Zagreb  ...                          15\n",
              "13    Reykjavik  ...                          14\n",
              "14       Sydney  ...                          23\n",
              "\n",
              "[15 rows x 4 columns]"
            ]
          },
          "metadata": {},
          "execution_count": 420
        }
      ]
    },
    {
      "cell_type": "code",
      "metadata": {
        "colab": {
          "base_uri": "https://localhost:8080/"
        },
        "id": "SUe7Cw5JTYfd",
        "outputId": "e9f46d15-b5fb-467f-c9fb-a17378022d6c"
      },
      "source": [
        "data_df.shape\n",
        "# 1. Used the Pandas shape method, there is 15 rows and 4 columns in the dataframe"
      ],
      "execution_count": 421,
      "outputs": [
        {
          "output_type": "execute_result",
          "data": {
            "text/plain": [
              "(15, 4)"
            ]
          },
          "metadata": {},
          "execution_count": 421
        }
      ]
    },
    {
      "cell_type": "code",
      "metadata": {
        "colab": {
          "base_uri": "https://localhost:8080/"
        },
        "id": "2eoi681ETZD7",
        "outputId": "8b050789-dd88-4267-a46c-0f5adbb78ff5"
      },
      "source": [
        "# 2. Print row 3-8 ( using iloc/loc).\n",
        "print(data_df.iloc[3:9,:])\n",
        "print(data_df.loc[3:8,:])"
      ],
      "execution_count": 422,
      "outputs": [
        {
          "output_type": "stream",
          "name": "stdout",
          "text": [
            "   Destination  ...  No_of_all_inclusive_hotels\n",
            "3         Faro  ...                          33\n",
            "4     New York  ...                          61\n",
            "5       Larisa  ...                          45\n",
            "6  Montego Bay  ...                          37\n",
            "7     Istanbul  ...                          43\n",
            "8       Lerick  ...                          38\n",
            "\n",
            "[6 rows x 4 columns]\n",
            "   Destination  ...  No_of_all_inclusive_hotels\n",
            "3         Faro  ...                          33\n",
            "4     New York  ...                          61\n",
            "5       Larisa  ...                          45\n",
            "6  Montego Bay  ...                          37\n",
            "7     Istanbul  ...                          43\n",
            "8       Lerick  ...                          38\n",
            "\n",
            "[6 rows x 4 columns]\n"
          ]
        }
      ]
    },
    {
      "cell_type": "code",
      "metadata": {
        "id": "xsBff8jwVRuj"
      },
      "source": [
        ""
      ],
      "execution_count": 422,
      "outputs": []
    },
    {
      "cell_type": "code",
      "metadata": {
        "colab": {
          "base_uri": "https://localhost:8080/"
        },
        "id": "L9qKpYsiVSfD",
        "outputId": "3db81891-5387-4735-aff2-2587d47161b6"
      },
      "source": [
        "# 3. Find the mean number of all-inclusive hotels across all destinations.\n",
        "\n",
        "# The mean value of number of all-inclusive hotels across \n",
        "# all destinations is (34.866667) 35.0 \n",
        "data_df.mean()\n"
      ],
      "execution_count": 423,
      "outputs": [
        {
          "output_type": "execute_result",
          "data": {
            "text/plain": [
              "Feedback_score                 4.000000\n",
              "Average_hotel_star_rating      2.733333\n",
              "No_of_all_inclusive_hotels    34.866667\n",
              "dtype: float64"
            ]
          },
          "metadata": {},
          "execution_count": 423
        }
      ]
    },
    {
      "cell_type": "code",
      "metadata": {
        "id": "nmhND3_tbwKz",
        "colab": {
          "base_uri": "https://localhost:8080/"
        },
        "outputId": "4f21177f-a5cc-4e8a-a0cc-2cf1b777b486"
      },
      "source": [
        "# 4. Find the lowest scoring destination. and\n",
        "# 5. Find the highest scoring destination\n",
        "\n",
        "# Add the sum of all rows across all labels and place into the dataframe \n",
        "# as column Row_Sum\n",
        "\n",
        "np.random.seed(3)\n",
        "\n",
        "data_df['Row_Sum'] = data_df.sum(axis=1)\n",
        "data_df\n",
        "# Select the lowest Row_Sum value\n",
        "print(\"\\n\",data_df.nsmallest(1,'Row_Sum'))\n",
        "## Select the highest Row_Sum value\n",
        "print(\"\\n\",data_df.nlargest(1,'Row_Sum'))\n",
        "\n",
        "# The lowest scoring destination is Reykjavik with a value of 18 \n",
        "\n",
        "# Note in Google Colab kept getting different values, I had to \n",
        "# keep re-running all the code in each code cell, from the Runtime menu,Run all"
      ],
      "execution_count": 424,
      "outputs": [
        {
          "output_type": "stream",
          "name": "stdout",
          "text": [
            "\n",
            "    Destination  Feedback_score  ...  No_of_all_inclusive_hotels  Row_Sum\n",
            "13   Reykjavik               1  ...                          14       18\n",
            "\n",
            "[1 rows x 5 columns]\n",
            "\n",
            "   Destination  Feedback_score  ...  No_of_all_inclusive_hotels  Row_Sum\n",
            "2        Rome               7  ...                          64       73\n",
            "\n",
            "[1 rows x 5 columns]\n"
          ]
        }
      ]
    },
    {
      "cell_type": "code",
      "metadata": {
        "id": "PStSSessbw5L"
      },
      "source": [
        "# 5. Find the highest scoring destination\n",
        "\n",
        "# The Highest scoring destination is Rome with a score of 73\n",
        "\n",
        "# Add the sum of all rows across all labels and place into the dataframe \n",
        "# as column Row_Sum\n",
        "#data_df['Row_Sum'] = data_df.sum(axis=1)\n",
        "#data_df\n",
        "# Select the largest Row_Sum value\n",
        "#print(data_df.nlargest(1,'Row_Sum'))\n",
        "\n",
        "# Note in Google Colab kept getting different values, I had to \n",
        "# keep re-running all the code in each code cell, from the Runtime menu,Run all "
      ],
      "execution_count": 425,
      "outputs": []
    },
    {
      "cell_type": "code",
      "metadata": {
        "id": "f7s96NbdI_VI"
      },
      "source": [
        ""
      ],
      "execution_count": 425,
      "outputs": []
    },
    {
      "cell_type": "code",
      "metadata": {
        "id": "2p8pnXkkIkGw"
      },
      "source": [
        ""
      ],
      "execution_count": 425,
      "outputs": []
    },
    {
      "cell_type": "code",
      "metadata": {
        "id": "gyG0ex_WcERX",
        "colab": {
          "base_uri": "https://localhost:8080/",
          "height": 516
        },
        "outputId": "7b729fea-4cf5-4209-c37e-44f67ea0d0b2"
      },
      "source": [
        "# 6, Find all the destinations where there are more than 9 all-inclusive hotels. \n",
        "data_df[data_df['No_of_all_inclusive_hotels'] > 9]"
      ],
      "execution_count": 426,
      "outputs": [
        {
          "output_type": "execute_result",
          "data": {
            "text/html": [
              "<div>\n",
              "<style scoped>\n",
              "    .dataframe tbody tr th:only-of-type {\n",
              "        vertical-align: middle;\n",
              "    }\n",
              "\n",
              "    .dataframe tbody tr th {\n",
              "        vertical-align: top;\n",
              "    }\n",
              "\n",
              "    .dataframe thead th {\n",
              "        text-align: right;\n",
              "    }\n",
              "</style>\n",
              "<table border=\"1\" class=\"dataframe\">\n",
              "  <thead>\n",
              "    <tr style=\"text-align: right;\">\n",
              "      <th></th>\n",
              "      <th>Destination</th>\n",
              "      <th>Feedback_score</th>\n",
              "      <th>Average_hotel_star_rating</th>\n",
              "      <th>No_of_all_inclusive_hotels</th>\n",
              "      <th>Row_Sum</th>\n",
              "    </tr>\n",
              "  </thead>\n",
              "  <tbody>\n",
              "    <tr>\n",
              "      <th>0</th>\n",
              "      <td>Madrid</td>\n",
              "      <td>6</td>\n",
              "      <td>2</td>\n",
              "      <td>23</td>\n",
              "      <td>31</td>\n",
              "    </tr>\n",
              "    <tr>\n",
              "      <th>1</th>\n",
              "      <td>Paris</td>\n",
              "      <td>4</td>\n",
              "      <td>3</td>\n",
              "      <td>45</td>\n",
              "      <td>52</td>\n",
              "    </tr>\n",
              "    <tr>\n",
              "      <th>2</th>\n",
              "      <td>Rome</td>\n",
              "      <td>7</td>\n",
              "      <td>2</td>\n",
              "      <td>64</td>\n",
              "      <td>73</td>\n",
              "    </tr>\n",
              "    <tr>\n",
              "      <th>3</th>\n",
              "      <td>Faro</td>\n",
              "      <td>8</td>\n",
              "      <td>4</td>\n",
              "      <td>33</td>\n",
              "      <td>45</td>\n",
              "    </tr>\n",
              "    <tr>\n",
              "      <th>4</th>\n",
              "      <td>New York</td>\n",
              "      <td>3</td>\n",
              "      <td>3</td>\n",
              "      <td>61</td>\n",
              "      <td>67</td>\n",
              "    </tr>\n",
              "    <tr>\n",
              "      <th>5</th>\n",
              "      <td>Larisa</td>\n",
              "      <td>2</td>\n",
              "      <td>4</td>\n",
              "      <td>45</td>\n",
              "      <td>51</td>\n",
              "    </tr>\n",
              "    <tr>\n",
              "      <th>6</th>\n",
              "      <td>Montego Bay</td>\n",
              "      <td>7</td>\n",
              "      <td>4</td>\n",
              "      <td>37</td>\n",
              "      <td>48</td>\n",
              "    </tr>\n",
              "    <tr>\n",
              "      <th>7</th>\n",
              "      <td>Istanbul</td>\n",
              "      <td>5</td>\n",
              "      <td>3</td>\n",
              "      <td>43</td>\n",
              "      <td>51</td>\n",
              "    </tr>\n",
              "    <tr>\n",
              "      <th>8</th>\n",
              "      <td>Lerick</td>\n",
              "      <td>4</td>\n",
              "      <td>2</td>\n",
              "      <td>38</td>\n",
              "      <td>44</td>\n",
              "    </tr>\n",
              "    <tr>\n",
              "      <th>9</th>\n",
              "      <td>Berlin</td>\n",
              "      <td>2</td>\n",
              "      <td>2</td>\n",
              "      <td>27</td>\n",
              "      <td>31</td>\n",
              "    </tr>\n",
              "    <tr>\n",
              "      <th>10</th>\n",
              "      <td>Dubai</td>\n",
              "      <td>3</td>\n",
              "      <td>3</td>\n",
              "      <td>34</td>\n",
              "      <td>40</td>\n",
              "    </tr>\n",
              "    <tr>\n",
              "      <th>11</th>\n",
              "      <td>Warsaw</td>\n",
              "      <td>4</td>\n",
              "      <td>1</td>\n",
              "      <td>21</td>\n",
              "      <td>26</td>\n",
              "    </tr>\n",
              "    <tr>\n",
              "      <th>12</th>\n",
              "      <td>Zagreb</td>\n",
              "      <td>2</td>\n",
              "      <td>2</td>\n",
              "      <td>15</td>\n",
              "      <td>19</td>\n",
              "    </tr>\n",
              "    <tr>\n",
              "      <th>13</th>\n",
              "      <td>Reykjavik</td>\n",
              "      <td>1</td>\n",
              "      <td>3</td>\n",
              "      <td>14</td>\n",
              "      <td>18</td>\n",
              "    </tr>\n",
              "    <tr>\n",
              "      <th>14</th>\n",
              "      <td>Sydney</td>\n",
              "      <td>2</td>\n",
              "      <td>3</td>\n",
              "      <td>23</td>\n",
              "      <td>28</td>\n",
              "    </tr>\n",
              "  </tbody>\n",
              "</table>\n",
              "</div>"
            ],
            "text/plain": [
              "    Destination  Feedback_score  ...  No_of_all_inclusive_hotels  Row_Sum\n",
              "0        Madrid               6  ...                          23       31\n",
              "1         Paris               4  ...                          45       52\n",
              "2          Rome               7  ...                          64       73\n",
              "3          Faro               8  ...                          33       45\n",
              "4      New York               3  ...                          61       67\n",
              "5        Larisa               2  ...                          45       51\n",
              "6   Montego Bay               7  ...                          37       48\n",
              "7      Istanbul               5  ...                          43       51\n",
              "8        Lerick               4  ...                          38       44\n",
              "9        Berlin               2  ...                          27       31\n",
              "10        Dubai               3  ...                          34       40\n",
              "11       Warsaw               4  ...                          21       26\n",
              "12       Zagreb               2  ...                          15       19\n",
              "13    Reykjavik               1  ...                          14       18\n",
              "14       Sydney               2  ...                          23       28\n",
              "\n",
              "[15 rows x 5 columns]"
            ]
          },
          "metadata": {},
          "execution_count": 426
        }
      ]
    },
    {
      "cell_type": "code",
      "metadata": {
        "id": "cUDD5X9LcLiX",
        "colab": {
          "base_uri": "https://localhost:8080/",
          "height": 50
        },
        "outputId": "1db0fd13-c8dd-4e5e-c08e-310c6f3fe3c0"
      },
      "source": [
        "# 7. Filter the data by score above 8. \n",
        "np.random.seed(3)\n",
        "data_df[data_df['Feedback_score'] > 8]\n",
        "# For my data there is no feedback score > 8"
      ],
      "execution_count": 427,
      "outputs": [
        {
          "output_type": "execute_result",
          "data": {
            "text/html": [
              "<div>\n",
              "<style scoped>\n",
              "    .dataframe tbody tr th:only-of-type {\n",
              "        vertical-align: middle;\n",
              "    }\n",
              "\n",
              "    .dataframe tbody tr th {\n",
              "        vertical-align: top;\n",
              "    }\n",
              "\n",
              "    .dataframe thead th {\n",
              "        text-align: right;\n",
              "    }\n",
              "</style>\n",
              "<table border=\"1\" class=\"dataframe\">\n",
              "  <thead>\n",
              "    <tr style=\"text-align: right;\">\n",
              "      <th></th>\n",
              "      <th>Destination</th>\n",
              "      <th>Feedback_score</th>\n",
              "      <th>Average_hotel_star_rating</th>\n",
              "      <th>No_of_all_inclusive_hotels</th>\n",
              "      <th>Row_Sum</th>\n",
              "    </tr>\n",
              "  </thead>\n",
              "  <tbody>\n",
              "  </tbody>\n",
              "</table>\n",
              "</div>"
            ],
            "text/plain": [
              "Empty DataFrame\n",
              "Columns: [Destination, Feedback_score, Average_hotel_star_rating, No_of_all_inclusive_hotels, Row_Sum]\n",
              "Index: []"
            ]
          },
          "metadata": {},
          "execution_count": 427
        }
      ]
    },
    {
      "cell_type": "code",
      "metadata": {
        "id": "LGVY2D7ecMID",
        "colab": {
          "base_uri": "https://localhost:8080/",
          "height": 516
        },
        "outputId": "9e62f2eb-0168-4c0b-fd23-4bb3e5f4cf5b"
      },
      "source": [
        "# 7. Continued filtered by Row Sum\n",
        "np.random.seed(3)\n",
        "data_df[data_df['Row_Sum'] > 8]\n"
      ],
      "execution_count": 428,
      "outputs": [
        {
          "output_type": "execute_result",
          "data": {
            "text/html": [
              "<div>\n",
              "<style scoped>\n",
              "    .dataframe tbody tr th:only-of-type {\n",
              "        vertical-align: middle;\n",
              "    }\n",
              "\n",
              "    .dataframe tbody tr th {\n",
              "        vertical-align: top;\n",
              "    }\n",
              "\n",
              "    .dataframe thead th {\n",
              "        text-align: right;\n",
              "    }\n",
              "</style>\n",
              "<table border=\"1\" class=\"dataframe\">\n",
              "  <thead>\n",
              "    <tr style=\"text-align: right;\">\n",
              "      <th></th>\n",
              "      <th>Destination</th>\n",
              "      <th>Feedback_score</th>\n",
              "      <th>Average_hotel_star_rating</th>\n",
              "      <th>No_of_all_inclusive_hotels</th>\n",
              "      <th>Row_Sum</th>\n",
              "    </tr>\n",
              "  </thead>\n",
              "  <tbody>\n",
              "    <tr>\n",
              "      <th>0</th>\n",
              "      <td>Madrid</td>\n",
              "      <td>6</td>\n",
              "      <td>2</td>\n",
              "      <td>23</td>\n",
              "      <td>31</td>\n",
              "    </tr>\n",
              "    <tr>\n",
              "      <th>1</th>\n",
              "      <td>Paris</td>\n",
              "      <td>4</td>\n",
              "      <td>3</td>\n",
              "      <td>45</td>\n",
              "      <td>52</td>\n",
              "    </tr>\n",
              "    <tr>\n",
              "      <th>2</th>\n",
              "      <td>Rome</td>\n",
              "      <td>7</td>\n",
              "      <td>2</td>\n",
              "      <td>64</td>\n",
              "      <td>73</td>\n",
              "    </tr>\n",
              "    <tr>\n",
              "      <th>3</th>\n",
              "      <td>Faro</td>\n",
              "      <td>8</td>\n",
              "      <td>4</td>\n",
              "      <td>33</td>\n",
              "      <td>45</td>\n",
              "    </tr>\n",
              "    <tr>\n",
              "      <th>4</th>\n",
              "      <td>New York</td>\n",
              "      <td>3</td>\n",
              "      <td>3</td>\n",
              "      <td>61</td>\n",
              "      <td>67</td>\n",
              "    </tr>\n",
              "    <tr>\n",
              "      <th>5</th>\n",
              "      <td>Larisa</td>\n",
              "      <td>2</td>\n",
              "      <td>4</td>\n",
              "      <td>45</td>\n",
              "      <td>51</td>\n",
              "    </tr>\n",
              "    <tr>\n",
              "      <th>6</th>\n",
              "      <td>Montego Bay</td>\n",
              "      <td>7</td>\n",
              "      <td>4</td>\n",
              "      <td>37</td>\n",
              "      <td>48</td>\n",
              "    </tr>\n",
              "    <tr>\n",
              "      <th>7</th>\n",
              "      <td>Istanbul</td>\n",
              "      <td>5</td>\n",
              "      <td>3</td>\n",
              "      <td>43</td>\n",
              "      <td>51</td>\n",
              "    </tr>\n",
              "    <tr>\n",
              "      <th>8</th>\n",
              "      <td>Lerick</td>\n",
              "      <td>4</td>\n",
              "      <td>2</td>\n",
              "      <td>38</td>\n",
              "      <td>44</td>\n",
              "    </tr>\n",
              "    <tr>\n",
              "      <th>9</th>\n",
              "      <td>Berlin</td>\n",
              "      <td>2</td>\n",
              "      <td>2</td>\n",
              "      <td>27</td>\n",
              "      <td>31</td>\n",
              "    </tr>\n",
              "    <tr>\n",
              "      <th>10</th>\n",
              "      <td>Dubai</td>\n",
              "      <td>3</td>\n",
              "      <td>3</td>\n",
              "      <td>34</td>\n",
              "      <td>40</td>\n",
              "    </tr>\n",
              "    <tr>\n",
              "      <th>11</th>\n",
              "      <td>Warsaw</td>\n",
              "      <td>4</td>\n",
              "      <td>1</td>\n",
              "      <td>21</td>\n",
              "      <td>26</td>\n",
              "    </tr>\n",
              "    <tr>\n",
              "      <th>12</th>\n",
              "      <td>Zagreb</td>\n",
              "      <td>2</td>\n",
              "      <td>2</td>\n",
              "      <td>15</td>\n",
              "      <td>19</td>\n",
              "    </tr>\n",
              "    <tr>\n",
              "      <th>13</th>\n",
              "      <td>Reykjavik</td>\n",
              "      <td>1</td>\n",
              "      <td>3</td>\n",
              "      <td>14</td>\n",
              "      <td>18</td>\n",
              "    </tr>\n",
              "    <tr>\n",
              "      <th>14</th>\n",
              "      <td>Sydney</td>\n",
              "      <td>2</td>\n",
              "      <td>3</td>\n",
              "      <td>23</td>\n",
              "      <td>28</td>\n",
              "    </tr>\n",
              "  </tbody>\n",
              "</table>\n",
              "</div>"
            ],
            "text/plain": [
              "    Destination  Feedback_score  ...  No_of_all_inclusive_hotels  Row_Sum\n",
              "0        Madrid               6  ...                          23       31\n",
              "1         Paris               4  ...                          45       52\n",
              "2          Rome               7  ...                          64       73\n",
              "3          Faro               8  ...                          33       45\n",
              "4      New York               3  ...                          61       67\n",
              "5        Larisa               2  ...                          45       51\n",
              "6   Montego Bay               7  ...                          37       48\n",
              "7      Istanbul               5  ...                          43       51\n",
              "8        Lerick               4  ...                          38       44\n",
              "9        Berlin               2  ...                          27       31\n",
              "10        Dubai               3  ...                          34       40\n",
              "11       Warsaw               4  ...                          21       26\n",
              "12       Zagreb               2  ...                          15       19\n",
              "13    Reykjavik               1  ...                          14       18\n",
              "14       Sydney               2  ...                          23       28\n",
              "\n",
              "[15 rows x 5 columns]"
            ]
          },
          "metadata": {},
          "execution_count": 428
        }
      ]
    },
    {
      "cell_type": "code",
      "metadata": {
        "id": "adSyhSHqnBv4"
      },
      "source": [
        ""
      ],
      "execution_count": 428,
      "outputs": []
    },
    {
      "cell_type": "code",
      "metadata": {
        "id": "xq-COONMcY3g",
        "colab": {
          "base_uri": "https://localhost:8080/",
          "height": 298
        },
        "outputId": "acd1453d-1d3b-4b2c-bf4d-a6ae1b4489b3"
      },
      "source": [
        "# 8. Filter the data score below 2 \n",
        "# ( I need to know if these destinations should be removed or there is a problem) \n",
        "\n",
        "\n",
        "np.random.seed(3)\n",
        "data_df[data_df['Feedback_score'] < 2]\n",
        "data_df.describe()\n",
        "\n",
        "# My data has only on sample that has a Feedback_score < 2\n",
        "# Output of the describe method provides summary statistics\n",
        "# on the Feedback_score column, std (standard deviation) is 2.17 so\n",
        "# min = 1.8, max = 6.2 in repect to the mean, with one value is say\n",
        "# 1.5 times below the mean, a slight data point outlier no reason to doubt it,\n",
        "# the max value of 8.0 is nearly twice the std value from the mean so that\n",
        "#  data point is a larger outlier at the upper end, removing the two\n",
        "# outliers would provide a symmetrical data which fits a normal distribution.\n",
        "\n",
        "# Note in Google Colab kept getting different values, I had to \n",
        "# keep re-running all the code in each code cell, from the Runtime menu,Run all"
      ],
      "execution_count": 429,
      "outputs": [
        {
          "output_type": "execute_result",
          "data": {
            "text/html": [
              "<div>\n",
              "<style scoped>\n",
              "    .dataframe tbody tr th:only-of-type {\n",
              "        vertical-align: middle;\n",
              "    }\n",
              "\n",
              "    .dataframe tbody tr th {\n",
              "        vertical-align: top;\n",
              "    }\n",
              "\n",
              "    .dataframe thead th {\n",
              "        text-align: right;\n",
              "    }\n",
              "</style>\n",
              "<table border=\"1\" class=\"dataframe\">\n",
              "  <thead>\n",
              "    <tr style=\"text-align: right;\">\n",
              "      <th></th>\n",
              "      <th>Feedback_score</th>\n",
              "      <th>Average_hotel_star_rating</th>\n",
              "      <th>No_of_all_inclusive_hotels</th>\n",
              "      <th>Row_Sum</th>\n",
              "    </tr>\n",
              "  </thead>\n",
              "  <tbody>\n",
              "    <tr>\n",
              "      <th>count</th>\n",
              "      <td>15.000000</td>\n",
              "      <td>15.000000</td>\n",
              "      <td>15.000000</td>\n",
              "      <td>15.000000</td>\n",
              "    </tr>\n",
              "    <tr>\n",
              "      <th>mean</th>\n",
              "      <td>4.000000</td>\n",
              "      <td>2.733333</td>\n",
              "      <td>34.866667</td>\n",
              "      <td>41.600000</td>\n",
              "    </tr>\n",
              "    <tr>\n",
              "      <th>std</th>\n",
              "      <td>2.171241</td>\n",
              "      <td>0.883715</td>\n",
              "      <td>15.089574</td>\n",
              "      <td>16.251593</td>\n",
              "    </tr>\n",
              "    <tr>\n",
              "      <th>min</th>\n",
              "      <td>1.000000</td>\n",
              "      <td>1.000000</td>\n",
              "      <td>14.000000</td>\n",
              "      <td>18.000000</td>\n",
              "    </tr>\n",
              "    <tr>\n",
              "      <th>25%</th>\n",
              "      <td>2.000000</td>\n",
              "      <td>2.000000</td>\n",
              "      <td>23.000000</td>\n",
              "      <td>29.500000</td>\n",
              "    </tr>\n",
              "    <tr>\n",
              "      <th>50%</th>\n",
              "      <td>4.000000</td>\n",
              "      <td>3.000000</td>\n",
              "      <td>34.000000</td>\n",
              "      <td>44.000000</td>\n",
              "    </tr>\n",
              "    <tr>\n",
              "      <th>75%</th>\n",
              "      <td>5.500000</td>\n",
              "      <td>3.000000</td>\n",
              "      <td>44.000000</td>\n",
              "      <td>51.000000</td>\n",
              "    </tr>\n",
              "    <tr>\n",
              "      <th>max</th>\n",
              "      <td>8.000000</td>\n",
              "      <td>4.000000</td>\n",
              "      <td>64.000000</td>\n",
              "      <td>73.000000</td>\n",
              "    </tr>\n",
              "  </tbody>\n",
              "</table>\n",
              "</div>"
            ],
            "text/plain": [
              "       Feedback_score  ...    Row_Sum\n",
              "count       15.000000  ...  15.000000\n",
              "mean         4.000000  ...  41.600000\n",
              "std          2.171241  ...  16.251593\n",
              "min          1.000000  ...  18.000000\n",
              "25%          2.000000  ...  29.500000\n",
              "50%          4.000000  ...  44.000000\n",
              "75%          5.500000  ...  51.000000\n",
              "max          8.000000  ...  73.000000\n",
              "\n",
              "[8 rows x 4 columns]"
            ]
          },
          "metadata": {},
          "execution_count": 429
        }
      ]
    },
    {
      "cell_type": "code",
      "metadata": {
        "id": "TV2b-iR5cZYL"
      },
      "source": [
        "\n"
      ],
      "execution_count": 429,
      "outputs": []
    },
    {
      "cell_type": "code",
      "metadata": {
        "id": "pGocMx2RckqA",
        "colab": {
          "base_uri": "https://localhost:8080/",
          "height": 173
        },
        "outputId": "09d45824-7b14-42a8-de45-bb916350f6c7"
      },
      "source": [
        "#Extension\n",
        "# 1. Is there a correlation between number of all-inclusive hotels and score?\n",
        "\n",
        "# Yes there is a small/medium  positive correlation (0.36) \n",
        "# between number of all-inclusive hotels and Feedback_score\n",
        "np.random.seed(3)\n",
        "data_df.corr()"
      ],
      "execution_count": 430,
      "outputs": [
        {
          "output_type": "execute_result",
          "data": {
            "text/html": [
              "<div>\n",
              "<style scoped>\n",
              "    .dataframe tbody tr th:only-of-type {\n",
              "        vertical-align: middle;\n",
              "    }\n",
              "\n",
              "    .dataframe tbody tr th {\n",
              "        vertical-align: top;\n",
              "    }\n",
              "\n",
              "    .dataframe thead th {\n",
              "        text-align: right;\n",
              "    }\n",
              "</style>\n",
              "<table border=\"1\" class=\"dataframe\">\n",
              "  <thead>\n",
              "    <tr style=\"text-align: right;\">\n",
              "      <th></th>\n",
              "      <th>Feedback_score</th>\n",
              "      <th>Average_hotel_star_rating</th>\n",
              "      <th>No_of_all_inclusive_hotels</th>\n",
              "      <th>Row_Sum</th>\n",
              "    </tr>\n",
              "  </thead>\n",
              "  <tbody>\n",
              "    <tr>\n",
              "      <th>Feedback_score</th>\n",
              "      <td>1.000000</td>\n",
              "      <td>0.148906</td>\n",
              "      <td>0.364086</td>\n",
              "      <td>0.479752</td>\n",
              "    </tr>\n",
              "    <tr>\n",
              "      <th>Average_hotel_star_rating</th>\n",
              "      <td>0.148906</td>\n",
              "      <td>1.000000</td>\n",
              "      <td>0.243543</td>\n",
              "      <td>0.300401</td>\n",
              "    </tr>\n",
              "    <tr>\n",
              "      <th>No_of_all_inclusive_hotels</th>\n",
              "      <td>0.364086</td>\n",
              "      <td>0.243543</td>\n",
              "      <td>1.000000</td>\n",
              "      <td>0.990384</td>\n",
              "    </tr>\n",
              "    <tr>\n",
              "      <th>Row_Sum</th>\n",
              "      <td>0.479752</td>\n",
              "      <td>0.300401</td>\n",
              "      <td>0.990384</td>\n",
              "      <td>1.000000</td>\n",
              "    </tr>\n",
              "  </tbody>\n",
              "</table>\n",
              "</div>"
            ],
            "text/plain": [
              "                            Feedback_score  ...   Row_Sum\n",
              "Feedback_score                    1.000000  ...  0.479752\n",
              "Average_hotel_star_rating         0.148906  ...  0.300401\n",
              "No_of_all_inclusive_hotels        0.364086  ...  0.990384\n",
              "Row_Sum                           0.479752  ...  1.000000\n",
              "\n",
              "[4 rows x 4 columns]"
            ]
          },
          "metadata": {},
          "execution_count": 430
        }
      ]
    },
    {
      "cell_type": "code",
      "metadata": {
        "id": "uHfgR5DHclKK",
        "colab": {
          "base_uri": "https://localhost:8080/",
          "height": 354
        },
        "outputId": "1bd130f9-77b4-4806-8ad4-072956eddff1"
      },
      "source": [
        "# 2. Create a data visualisation diagram to show destination and highest scores?\n",
        "\n",
        "data_df.plot(kind='bar',x='Destination',y='Feedback_score')\n",
        "\n",
        "# Bar plot of Feedback_score against Destination"
      ],
      "execution_count": 445,
      "outputs": [
        {
          "output_type": "execute_result",
          "data": {
            "text/plain": [
              "<matplotlib.axes._subplots.AxesSubplot at 0x7fcc87983d90>"
            ]
          },
          "metadata": {},
          "execution_count": 445
        },
        {
          "output_type": "display_data",
          "data": {
            "image/png": "[encoded data removed]",
            "text/plain": [
              "<Figure size 432x288 with 1 Axes>"
            ]
          },
          "metadata": {
            "needs_background": "light"
          }
        }
      ]
    },
    {
      "cell_type": "code",
      "metadata": {
        "colab": {
          "base_uri": "https://localhost:8080/",
          "height": 354
        },
        "id": "bE0JLu8l7GmI",
        "outputId": "c2301148-074c-4375-a713-7be3909d595a"
      },
      "source": [
        "data_df.plot(kind='bar',x='Destination',y='Row_Sum')\n",
        "\n",
        "# Bar plot of Row_Sum against Destination\n"
      ],
      "execution_count": 446,
      "outputs": [
        {
          "output_type": "execute_result",
          "data": {
            "text/plain": [
              "<matplotlib.axes._subplots.AxesSubplot at 0x7fcc895495d0>"
            ]
          },
          "metadata": {},
          "execution_count": 446
        },
        {
          "output_type": "display_data",
          "data": {
            "image/png": "[encoded data removed]",
            "text/plain": [
              "<Figure size 432x288 with 1 Axes>"
            ]
          },
          "metadata": {
            "needs_background": "light"
          }
        }
      ]
    },
    {
      "cell_type": "code",
      "metadata": {
        "colab": {
          "base_uri": "https://localhost:8080/",
          "height": 415
        },
        "id": "6OXiP3_MAqe5",
        "outputId": "da490af9-5457-48e6-b7b0-a3a86e32498d"
      },
      "source": [
        "data_df.plot.kde(subplots = True,figsize = (5,5))\n",
        "\n",
        "# Density plots of the lables, Feedback_score\n",
        "# and Average_hotel_star_rating data is clustered tightly together,\n",
        "# small variation, the other two plots: No_of_all_inclusive_hotels,\n",
        "# Row_Sum data is more spread out and symmetrical,closely resembles \n",
        "# the normal distribution\n",
        "# "
      ],
      "execution_count": 451,
      "outputs": [
        {
          "output_type": "execute_result",
          "data": {
            "text/plain": [
              "array([<matplotlib.axes._subplots.AxesSubplot object at 0x7fcc773bd390>,\n",
              "       <matplotlib.axes._subplots.AxesSubplot object at 0x7fcc7746c310>,\n",
              "       <matplotlib.axes._subplots.AxesSubplot object at 0x7fcc77487b90>,\n",
              "       <matplotlib.axes._subplots.AxesSubplot object at 0x7fcc7733c690>],\n",
              "      dtype=object)"
            ]
          },
          "metadata": {},
          "execution_count": 451
        },
        {
          "output_type": "display_data",
          "data": {
            "image/png": "[encoded data removed]",
            "text/plain": [
              "<Figure size 360x360 with 4 Axes>"
            ]
          },
          "metadata": {
            "needs_background": "light"
          }
        }
      ]
    },
    {
      "cell_type": "code",
      "metadata": {
        "id": "x91g1wh5cutu"
      },
      "source": [
        ""
      ],
      "execution_count": null,
      "outputs": []
    }
  ]
}
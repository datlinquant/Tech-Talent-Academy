{
  "nbformat": 4,
  "nbformat_minor": 0,
  "metadata": {
    "colab": {
      "name": "Motor_Cycle1_v6.ipynb",
      "provenance": [],
      "collapsed_sections": []
    },
    "kernelspec": {
      "name": "python3",
      "display_name": "Python 3"
    },
    "language_info": {
      "name": "python"
    }
  },
  "cells": [
    {
      "cell_type": "code",
      "metadata": {
        "id": "M8jMIsobJ4GF"
      },
      "source": [
        ""
      ],
      "execution_count": null,
      "outputs": []
    },
    {
      "cell_type": "code",
      "metadata": {
        "colab": {
          "base_uri": "https://localhost:8080/"
        },
        "id": "xUCqd-e1KIWT",
        "outputId": "5996d71c-a58d-4e27-c08d-ab2872f6ad35"
      },
      "source": [
        "\n",
        "# Murphy Campbell\n",
        "# email: murphybcampbell@googlemail.com\n",
        "# TTA Data Academy Home Learning: Seession 2, \n",
        "# Motor Cycle depreciation task\n",
        "# Reference: https://www.python.org\n",
        "# Reference: https://www.w3schools.com/python/default.asp \n",
        "\n",
        "\n",
        "\n",
        "# Map of variables #\n",
        "# Depreciation percentage: depr_pcnt\n",
        "# Motor Cycle starting price: mtr_cycle_sp\n",
        "# Motor Cycle depreciation value: mtr_cycle_dv\n",
        "\n",
        "values = []\n",
        "\n",
        "\n",
        "\n",
        "# Declare depreciation function with inputs\n",
        "# Assign passed in values to variables\n",
        "\n",
        "\n",
        "values = [None for _ in range(7)]\n",
        "\n",
        "def depr(depr_pcnt,mtr_cycle_sp,mtr_cycle_dv): \n",
        "    i = 0\n",
        "     \n",
        "    mtr_cycle_dv = (mtr_cycle_sp - (mtr_cycle_sp * depr_pcnt))\n",
        "    print(\"Motor Cycle depeciation values\",mtr_cycle_dv)\n",
        "    while i < 7:\n",
        "      \n",
        "     if mtr_cycle_dv > 1000.00: \n",
        "      values[i] = mtr_cycle_dv\n",
        "      mtr_cycle_dv = (mtr_cycle_dv - (mtr_cycle_dv * depr_pcnt))\n",
        "      values[i] = mtr_cycle_dv\n",
        "     if mtr_cycle_dv < 1000.00:\n",
        "      break\n",
        "\n",
        "     \n",
        "     i = i + 1\n",
        "    return values\n",
        "    \n",
        "\n",
        "depr(depr_pcnt,mtr_cycle_sp,mtr_cycle_dv)\n",
        "depr_pcnt,mtr_cycle_sp,mtr_cycle_dv = 0.10,2000.00,00.00\n",
        "\n",
        "print(\"Motor Cycle depeciation values\",values)\n",
        "\n"
      ],
      "execution_count": 155,
      "outputs": [
        {
          "output_type": "stream",
          "name": "stdout",
          "text": [
            "Motor Cycle depeciation values 1800.0\n",
            "Motor Cycle depeciation values [1620.0, 1458.0, 1312.2, 1180.98, 1062.882, 956.5938000000001, None]\n"
          ]
        }
      ]
    }
  ]
}
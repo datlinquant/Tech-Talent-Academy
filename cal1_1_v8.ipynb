{
  "nbformat": 4,
  "nbformat_minor": 0,
  "metadata": {
    "colab": {
      "name": "cal1_1_v8.ipynb",
      "provenance": [],
      "collapsed_sections": []
    },
    "kernelspec": {
      "name": "python3",
      "display_name": "Python 3"
    },
    "language_info": {
      "name": "python"
    }
  },
  "cells": [
    {
      "cell_type": "code",
      "metadata": {
        "colab": {
          "base_uri": "https://localhost:8080/"
        },
        "id": "kXVRv7mQo8Js",
        "outputId": "34a8be98-a876-41c1-ed5f-8d3b425d6650"
      },
      "source": [
        "# Murphy Campbell\n",
        "# email: murphybcampbell@googlemail.com\n",
        "# TTA Data Academy Home Learning: Seession 2, Calculator operation task\n",
        "# Reference: https://www.w3schools.com/python/default.asp \n",
        "\n",
        "\n",
        "num1,num2,input1,input2 = 0,0,0,0\n",
        "char =\"\"\n",
        "ops = {}\n",
        "\n",
        "\n",
        "\n",
        "def cal(char,num1,num2):   # Declare calculator procedure with inputs\n",
        "    char,x,y = char,num1,num2     # Assign passed in values to variables\n",
        "    \n",
        "\n",
        "    ops = {\"a\":x+y,                \n",
        "           \"b\":x-y,               \n",
        "           \"c\":x*y,\n",
        "           \"d\":x**y,\n",
        "           \"e\":x/y}\n",
        "           \n",
        "\n",
        "# Declare dictionary to hold keys and maths\n",
        "# operation statements\n",
        " \n",
        "    print(\"Result of calculation:\\n\",ops[char])   \n",
        "    \n",
        "    \n",
        "\n",
        " # Print result of maths operation from user input values                                                  \n",
        "                                                  \n",
        "\n",
        "print(\"Please enter two numbers to be operated upon\\nPlease enter the first number\" )\n",
        "num1 = float(input(input1))\n",
        "    \n",
        "      \n",
        "print(\"Please enter the second number\\n\")\n",
        "num2 = float(input(input2))\n",
        "                                    \n",
        "\n",
        " \n",
        "print(\"======Calculator Menu ==============\\n\")\n",
        "print('            \"a\": Add             ')\n",
        "print('            \"b\": Sub             ')\n",
        "print('            \"c\": times           ')\n",
        "print('            \"d\": sqr             ')\n",
        "print('            \"e\": div             ')\n",
        "print('Please key in a letter \"a\" - \"f\" ')\n",
        "char = str(input(char))\n",
        "print(\"===================================\\n\")\n",
        "              \n",
        "\n",
        "                                \n",
        "\n",
        "cal(char,num1,num2)\n",
        "# Call calcualator with user provided inputs\n"
      ],
      "execution_count": 32,
      "outputs": [
        {
          "output_type": "stream",
          "name": "stdout",
          "text": [
            "Please enter two numbers to be operated upon\n",
            "Please enter the first number\n",
            "2\n",
            "Please enter the second number\n",
            "\n",
            "3\n",
            "======Calculator Menu ==============\n",
            "\n",
            "            \"a\": Add             \n",
            "            \"b\": Sub             \n",
            "            \"c\": times           \n",
            "            \"d\": sqr             \n",
            "            \"e\": div             \n",
            "Please key in a letter \"a\" - \"f\" \n",
            "c\n",
            "===================================\n",
            "\n",
            "Result of calculation:\n",
            " 6.0\n"
          ]
        }
      ]
    },
    {
      "cell_type": "code",
      "metadata": {
        "id": "hW1Xwimio-ux"
      },
      "source": [
        ""
      ],
      "execution_count": null,
      "outputs": []
    },
    {
      "cell_type": "code",
      "metadata": {
        "id": "uA1WgH8mo_bs"
      },
      "source": [
        "try:\n",
        "    number = eval(input(\"Input a number: \"))\n",
        "    print(\"The number you input is,\".number)\n",
        "except NameError as ex:\n",
        "   print(\"Exception:\", ex)"
      ],
      "execution_count": null,
      "outputs": []
    },
    {
      "cell_type": "code",
      "metadata": {
        "id": "U1wiCVJWpAfn"
      },
      "source": [
        ""
      ],
      "execution_count": null,
      "outputs": []
    },
    {
      "cell_type": "code",
      "metadata": {
        "id": "RIr2z2xurIGf"
      },
      "source": [
        "help(str)"
      ],
      "execution_count": null,
      "outputs": []
    }
  ]
}